{
 "cells": [
  {
   "cell_type": "markdown",
   "metadata": {
    "id": "d9VEfIcNi7ux"
   },
   "source": [
    "# [Data Science Term Project proposal]\n",
    "\n",
    "### 1. Team member\n",
    "201835401 강나현\n",
    "\n",
    "201835454 박민석\n",
    "\n",
    "201935121 임혜균\n",
    "\n",
    "202035400 현도연\n",
    "\n",
    "### 2. Dataset\n",
    "'googleplaystore.csv' file of https://www.kaggle.com/datasets/lava18/google-play-store-apps\n",
    " explanation ; details of the applications on Google Play(2019)\n",
    "This information is scraped from the Google Play Store.\n",
    "The Play Store apps data has enormous potential to drive app-making businesses to success.\n",
    "Actionable insights can be drawn for developers to work on and capture the Android market.\n",
    "\n",
    "\n",
    "* columns\n",
    " * (1)  : App: Application name\n",
    " * (2)  : category: Category the app belongs to -FAMILY, GAME, TOOLS, BUSINESS\n",
    " * (3)  : rating: Overall user rating of the app (as when scraped)\n",
    " * (4)  : Reviews: Number of user reviews for the app (as when scraped)\n",
    " * (5)  : Installs: Number of user downloads/installs for the app (as when scraped)\n",
    " * (6)  : Type : Paid / Free\n",
    " * (7)  : Price : Price of the app (as when scraped)\n",
    " * (8)  : Content rating : Age group the app is targeted at - Everyone /Teen / Mature 17+\n",
    " * (9)  : Last Updated ; Date when the app was last updated on Play Store (as when scraped)\n",
    " * (10) : Current Ver ; Current version of the app available on Play Store (as when scraped)\n",
    " 보통 버전 번호는 반드시 X.Y.Z\n",
    "X는 주(主, Major)버전 번호이고, Y는 부(部, Minor)버전 번호이며, Z는 수(修, Patch)버전 번호이다. 각각은 반드시 증가하는 수여야 한다\n",
    " * (11) : Android Ver ; Min required Android version (as when scraped)\n",
    " * (12) : Size: Size of the app (as when scraped)\n",
    " * (13) : Genre: An app can belong to multiple genres (apart from its main category). For eg, a musical family game will belong to -Tools/ Entertainment / Education/ Business\n",
    "\n",
    "\n",
    "### 3. Objectives of analysis\n",
    "**Main objectives**: Find out which categories were popular in the year and recommend apps based on them.\n",
    "\n",
    "**Sub objectives**: \n",
    "1. Find out what properties popular applications have.\n",
    "2. Find out the correlation between Rating, Review count, and Install count.(Because it is difficult to evaluate apps only with Rating.)\n",
    "3. Afterwards, popular apps such as \"Category\", \"Age\", and \"Paid/Free\" are recommended based on the measured \"Popularity\" criteria.\n",
    "\n",
    "\n",
    "### 4. Dataset discription\n",
    "1. Statics\n",
    "  *   df.shape\n",
    "  *   df.index\n",
    "  *   df.dtypes\n",
    "  *   df.describe()\n",
    "  *   df.columns\n",
    "  *   df.info()\n",
    "2. Tables\n",
    "  *   df.info()\n",
    "3. Plots: plot 'category', 'Installs', 'Rating', 'Price' and 'Size'.\n",
    "  *   plt.scatter()\n",
    "  *   plt.plot(x_value, y)\n",
    "4. Missing values\n",
    "  *  If 'numerical', replace with the average value of each column.\n",
    "  *  'Null' value of Rating is replaced with a value similar to the number of installations.\n",
    "5. Outliers\n",
    "  *  If you have 100 or less reviews, report it as Outlier and drop it.\n",
    "\n",
    "\n",
    "---"
   ]
  },
  {
   "cell_type": "markdown",
   "metadata": {
    "id": "Ut0xavsH7jXX"
   },
   "source": [
    "## **What we need to deal with in the future**\n",
    "1. Column with wrong value entered exists as a whole.\n",
    "2. The data of 'Reviews', 'Size', 'Price' and 'Installs' must be float, not object.\n",
    "3. Nan value exist in 'Rating'. A value of more than 5 points exists.\n",
    "4. We decide some datasets that are not needed for our purpose are 'Last Updated', 'Current Ver', 'Android Ver', 'Size' and 'Genre'. -> Will be dropped in preprocessing steps."
   ]
  },
  {
   "cell_type": "code",
   "execution_count": 1,
   "metadata": {
    "id": "cVJ5AzKEiiRt"
   },
   "outputs": [],
   "source": [
    "import pandas as pd\n",
    "import numpy as np\n",
    "\n",
    "import matplotlib.pyplot as plt\n",
    "import seaborn as sns"
   ]
  },
  {
   "cell_type": "code",
   "execution_count": 2,
   "metadata": {
    "colab": {
     "base_uri": "https://localhost:8080/",
     "height": 355
    },
    "id": "QLm7PtZqifGQ",
    "outputId": "9ed004a3-5fac-45cc-aa09-ba8b8224320b"
   },
   "outputs": [
    {
     "name": "stdout",
     "output_type": "stream",
     "text": [
      "▶ 공유파일 링크변환 경로명 :  https://drive.google.com/uc?id=19pl0nAmNpIInWbkR8kHx2FxC2zFeW7YA\n"
     ]
    }
   ],
   "source": [
    "url = \"https://drive.google.com/file/d/19pl0nAmNpIInWbkR8kHx2FxC2zFeW7YA/view?usp=sharing\"\n",
    "path = 'https://drive.google.com/uc?id='+url.split('/')[-2]\n",
    "print(\"▶ 공유파일 링크변환 경로명 : \", path)\n",
    "df = pd.read_csv(path)"
   ]
  },
  {
   "cell_type": "markdown",
   "metadata": {
    "id": "GdKV1nYvzx3C"
   },
   "source": [
    "# Dataset description: Statistics"
   ]
  },
  {
   "cell_type": "code",
   "execution_count": 3,
   "metadata": {
    "colab": {
     "base_uri": "https://localhost:8080/"
    },
    "id": "2H0yrxFnha2h",
    "outputId": "fa095151-89c8-448a-80fa-e17cdc084bae"
   },
   "outputs": [
    {
     "name": "stdout",
     "output_type": "stream",
     "text": [
      "<class 'pandas.core.frame.DataFrame'>\n",
      "RangeIndex: 10841 entries, 0 to 10840\n",
      "Data columns (total 13 columns):\n",
      " #   Column          Non-Null Count  Dtype  \n",
      "---  ------          --------------  -----  \n",
      " 0   App             10841 non-null  object \n",
      " 1   Category        10841 non-null  object \n",
      " 2   Rating          9367 non-null   float64\n",
      " 3   Reviews         10841 non-null  object \n",
      " 4   Size            10841 non-null  object \n",
      " 5   Installs        10841 non-null  object \n",
      " 6   Type            10840 non-null  object \n",
      " 7   Price           10841 non-null  object \n",
      " 8   Content Rating  10840 non-null  object \n",
      " 9   Genres          10841 non-null  object \n",
      " 10  Last Updated    10841 non-null  object \n",
      " 11  Current Ver     10833 non-null  object \n",
      " 12  Android Ver     10838 non-null  object \n",
      "dtypes: float64(1), object(12)\n",
      "memory usage: 1.1+ MB\n"
     ]
    }
   ],
   "source": [
    "df.info()"
   ]
  },
  {
   "cell_type": "code",
   "execution_count": 4,
   "metadata": {
    "colab": {
     "base_uri": "https://localhost:8080/",
     "height": 300
    },
    "id": "GhjLxa1bz3BJ",
    "outputId": "ee5f410d-663e-4472-ab0a-f087854b1ccc"
   },
   "outputs": [
    {
     "data": {
      "text/html": [
       "<div>\n",
       "<style scoped>\n",
       "    .dataframe tbody tr th:only-of-type {\n",
       "        vertical-align: middle;\n",
       "    }\n",
       "\n",
       "    .dataframe tbody tr th {\n",
       "        vertical-align: top;\n",
       "    }\n",
       "\n",
       "    .dataframe thead th {\n",
       "        text-align: right;\n",
       "    }\n",
       "</style>\n",
       "<table border=\"1\" class=\"dataframe\">\n",
       "  <thead>\n",
       "    <tr style=\"text-align: right;\">\n",
       "      <th></th>\n",
       "      <th>Rating</th>\n",
       "    </tr>\n",
       "  </thead>\n",
       "  <tbody>\n",
       "    <tr>\n",
       "      <th>count</th>\n",
       "      <td>9367.000000</td>\n",
       "    </tr>\n",
       "    <tr>\n",
       "      <th>mean</th>\n",
       "      <td>4.193338</td>\n",
       "    </tr>\n",
       "    <tr>\n",
       "      <th>std</th>\n",
       "      <td>0.537431</td>\n",
       "    </tr>\n",
       "    <tr>\n",
       "      <th>min</th>\n",
       "      <td>1.000000</td>\n",
       "    </tr>\n",
       "    <tr>\n",
       "      <th>25%</th>\n",
       "      <td>4.000000</td>\n",
       "    </tr>\n",
       "    <tr>\n",
       "      <th>50%</th>\n",
       "      <td>4.300000</td>\n",
       "    </tr>\n",
       "    <tr>\n",
       "      <th>75%</th>\n",
       "      <td>4.500000</td>\n",
       "    </tr>\n",
       "    <tr>\n",
       "      <th>max</th>\n",
       "      <td>19.000000</td>\n",
       "    </tr>\n",
       "  </tbody>\n",
       "</table>\n",
       "</div>"
      ],
      "text/plain": [
       "            Rating\n",
       "count  9367.000000\n",
       "mean      4.193338\n",
       "std       0.537431\n",
       "min       1.000000\n",
       "25%       4.000000\n",
       "50%       4.300000\n",
       "75%       4.500000\n",
       "max      19.000000"
      ]
     },
     "execution_count": 4,
     "metadata": {},
     "output_type": "execute_result"
    }
   ],
   "source": [
    "df.describe()"
   ]
  },
  {
   "cell_type": "markdown",
   "metadata": {
    "id": "TqMp6F8_0H5X"
   },
   "source": [
    "# Dataset description: Tables"
   ]
  },
  {
   "cell_type": "code",
   "execution_count": 5,
   "metadata": {
    "colab": {
     "base_uri": "https://localhost:8080/",
     "height": 337
    },
    "id": "OU-hxXm-z3Rs",
    "outputId": "64aa3569-e3b7-4aea-be80-8bc7798c9898"
   },
   "outputs": [
    {
     "data": {
      "text/html": [
       "<div>\n",
       "<style scoped>\n",
       "    .dataframe tbody tr th:only-of-type {\n",
       "        vertical-align: middle;\n",
       "    }\n",
       "\n",
       "    .dataframe tbody tr th {\n",
       "        vertical-align: top;\n",
       "    }\n",
       "\n",
       "    .dataframe thead th {\n",
       "        text-align: right;\n",
       "    }\n",
       "</style>\n",
       "<table border=\"1\" class=\"dataframe\">\n",
       "  <thead>\n",
       "    <tr style=\"text-align: right;\">\n",
       "      <th></th>\n",
       "      <th>App</th>\n",
       "      <th>Category</th>\n",
       "      <th>Rating</th>\n",
       "      <th>Reviews</th>\n",
       "      <th>Size</th>\n",
       "      <th>Installs</th>\n",
       "      <th>Type</th>\n",
       "      <th>Price</th>\n",
       "      <th>Content Rating</th>\n",
       "      <th>Genres</th>\n",
       "      <th>Last Updated</th>\n",
       "      <th>Current Ver</th>\n",
       "      <th>Android Ver</th>\n",
       "    </tr>\n",
       "  </thead>\n",
       "  <tbody>\n",
       "    <tr>\n",
       "      <th>0</th>\n",
       "      <td>Photo Editor &amp; Candy Camera &amp; Grid &amp; ScrapBook</td>\n",
       "      <td>ART_AND_DESIGN</td>\n",
       "      <td>4.1</td>\n",
       "      <td>159</td>\n",
       "      <td>19M</td>\n",
       "      <td>10,000+</td>\n",
       "      <td>Free</td>\n",
       "      <td>0</td>\n",
       "      <td>Everyone</td>\n",
       "      <td>Art &amp; Design</td>\n",
       "      <td>January 7, 2018</td>\n",
       "      <td>1.0.0</td>\n",
       "      <td>4.0.3 and up</td>\n",
       "    </tr>\n",
       "    <tr>\n",
       "      <th>1</th>\n",
       "      <td>Coloring book moana</td>\n",
       "      <td>ART_AND_DESIGN</td>\n",
       "      <td>3.9</td>\n",
       "      <td>967</td>\n",
       "      <td>14M</td>\n",
       "      <td>500,000+</td>\n",
       "      <td>Free</td>\n",
       "      <td>0</td>\n",
       "      <td>Everyone</td>\n",
       "      <td>Art &amp; Design;Pretend Play</td>\n",
       "      <td>January 15, 2018</td>\n",
       "      <td>2.0.0</td>\n",
       "      <td>4.0.3 and up</td>\n",
       "    </tr>\n",
       "    <tr>\n",
       "      <th>2</th>\n",
       "      <td>U Launcher Lite – FREE Live Cool Themes, Hide ...</td>\n",
       "      <td>ART_AND_DESIGN</td>\n",
       "      <td>4.7</td>\n",
       "      <td>87510</td>\n",
       "      <td>8.7M</td>\n",
       "      <td>5,000,000+</td>\n",
       "      <td>Free</td>\n",
       "      <td>0</td>\n",
       "      <td>Everyone</td>\n",
       "      <td>Art &amp; Design</td>\n",
       "      <td>August 1, 2018</td>\n",
       "      <td>1.2.4</td>\n",
       "      <td>4.0.3 and up</td>\n",
       "    </tr>\n",
       "    <tr>\n",
       "      <th>3</th>\n",
       "      <td>Sketch - Draw &amp; Paint</td>\n",
       "      <td>ART_AND_DESIGN</td>\n",
       "      <td>4.5</td>\n",
       "      <td>215644</td>\n",
       "      <td>25M</td>\n",
       "      <td>50,000,000+</td>\n",
       "      <td>Free</td>\n",
       "      <td>0</td>\n",
       "      <td>Teen</td>\n",
       "      <td>Art &amp; Design</td>\n",
       "      <td>June 8, 2018</td>\n",
       "      <td>Varies with device</td>\n",
       "      <td>4.2 and up</td>\n",
       "    </tr>\n",
       "    <tr>\n",
       "      <th>4</th>\n",
       "      <td>Pixel Draw - Number Art Coloring Book</td>\n",
       "      <td>ART_AND_DESIGN</td>\n",
       "      <td>4.3</td>\n",
       "      <td>967</td>\n",
       "      <td>2.8M</td>\n",
       "      <td>100,000+</td>\n",
       "      <td>Free</td>\n",
       "      <td>0</td>\n",
       "      <td>Everyone</td>\n",
       "      <td>Art &amp; Design;Creativity</td>\n",
       "      <td>June 20, 2018</td>\n",
       "      <td>1.1</td>\n",
       "      <td>4.4 and up</td>\n",
       "    </tr>\n",
       "    <tr>\n",
       "      <th>...</th>\n",
       "      <td>...</td>\n",
       "      <td>...</td>\n",
       "      <td>...</td>\n",
       "      <td>...</td>\n",
       "      <td>...</td>\n",
       "      <td>...</td>\n",
       "      <td>...</td>\n",
       "      <td>...</td>\n",
       "      <td>...</td>\n",
       "      <td>...</td>\n",
       "      <td>...</td>\n",
       "      <td>...</td>\n",
       "      <td>...</td>\n",
       "    </tr>\n",
       "    <tr>\n",
       "      <th>10836</th>\n",
       "      <td>Sya9a Maroc - FR</td>\n",
       "      <td>FAMILY</td>\n",
       "      <td>4.5</td>\n",
       "      <td>38</td>\n",
       "      <td>53M</td>\n",
       "      <td>5,000+</td>\n",
       "      <td>Free</td>\n",
       "      <td>0</td>\n",
       "      <td>Everyone</td>\n",
       "      <td>Education</td>\n",
       "      <td>July 25, 2017</td>\n",
       "      <td>1.48</td>\n",
       "      <td>4.1 and up</td>\n",
       "    </tr>\n",
       "    <tr>\n",
       "      <th>10837</th>\n",
       "      <td>Fr. Mike Schmitz Audio Teachings</td>\n",
       "      <td>FAMILY</td>\n",
       "      <td>5.0</td>\n",
       "      <td>4</td>\n",
       "      <td>3.6M</td>\n",
       "      <td>100+</td>\n",
       "      <td>Free</td>\n",
       "      <td>0</td>\n",
       "      <td>Everyone</td>\n",
       "      <td>Education</td>\n",
       "      <td>July 6, 2018</td>\n",
       "      <td>1.0</td>\n",
       "      <td>4.1 and up</td>\n",
       "    </tr>\n",
       "    <tr>\n",
       "      <th>10838</th>\n",
       "      <td>Parkinson Exercices FR</td>\n",
       "      <td>MEDICAL</td>\n",
       "      <td>NaN</td>\n",
       "      <td>3</td>\n",
       "      <td>9.5M</td>\n",
       "      <td>1,000+</td>\n",
       "      <td>Free</td>\n",
       "      <td>0</td>\n",
       "      <td>Everyone</td>\n",
       "      <td>Medical</td>\n",
       "      <td>January 20, 2017</td>\n",
       "      <td>1.0</td>\n",
       "      <td>2.2 and up</td>\n",
       "    </tr>\n",
       "    <tr>\n",
       "      <th>10839</th>\n",
       "      <td>The SCP Foundation DB fr nn5n</td>\n",
       "      <td>BOOKS_AND_REFERENCE</td>\n",
       "      <td>4.5</td>\n",
       "      <td>114</td>\n",
       "      <td>Varies with device</td>\n",
       "      <td>1,000+</td>\n",
       "      <td>Free</td>\n",
       "      <td>0</td>\n",
       "      <td>Mature 17+</td>\n",
       "      <td>Books &amp; Reference</td>\n",
       "      <td>January 19, 2015</td>\n",
       "      <td>Varies with device</td>\n",
       "      <td>Varies with device</td>\n",
       "    </tr>\n",
       "    <tr>\n",
       "      <th>10840</th>\n",
       "      <td>iHoroscope - 2018 Daily Horoscope &amp; Astrology</td>\n",
       "      <td>LIFESTYLE</td>\n",
       "      <td>4.5</td>\n",
       "      <td>398307</td>\n",
       "      <td>19M</td>\n",
       "      <td>10,000,000+</td>\n",
       "      <td>Free</td>\n",
       "      <td>0</td>\n",
       "      <td>Everyone</td>\n",
       "      <td>Lifestyle</td>\n",
       "      <td>July 25, 2018</td>\n",
       "      <td>Varies with device</td>\n",
       "      <td>Varies with device</td>\n",
       "    </tr>\n",
       "  </tbody>\n",
       "</table>\n",
       "<p>10841 rows × 13 columns</p>\n",
       "</div>"
      ],
      "text/plain": [
       "                                                     App             Category  \\\n",
       "0         Photo Editor & Candy Camera & Grid & ScrapBook       ART_AND_DESIGN   \n",
       "1                                    Coloring book moana       ART_AND_DESIGN   \n",
       "2      U Launcher Lite – FREE Live Cool Themes, Hide ...       ART_AND_DESIGN   \n",
       "3                                  Sketch - Draw & Paint       ART_AND_DESIGN   \n",
       "4                  Pixel Draw - Number Art Coloring Book       ART_AND_DESIGN   \n",
       "...                                                  ...                  ...   \n",
       "10836                                   Sya9a Maroc - FR               FAMILY   \n",
       "10837                   Fr. Mike Schmitz Audio Teachings               FAMILY   \n",
       "10838                             Parkinson Exercices FR              MEDICAL   \n",
       "10839                      The SCP Foundation DB fr nn5n  BOOKS_AND_REFERENCE   \n",
       "10840      iHoroscope - 2018 Daily Horoscope & Astrology            LIFESTYLE   \n",
       "\n",
       "       Rating Reviews                Size     Installs  Type Price  \\\n",
       "0         4.1     159                 19M      10,000+  Free     0   \n",
       "1         3.9     967                 14M     500,000+  Free     0   \n",
       "2         4.7   87510                8.7M   5,000,000+  Free     0   \n",
       "3         4.5  215644                 25M  50,000,000+  Free     0   \n",
       "4         4.3     967                2.8M     100,000+  Free     0   \n",
       "...       ...     ...                 ...          ...   ...   ...   \n",
       "10836     4.5      38                 53M       5,000+  Free     0   \n",
       "10837     5.0       4                3.6M         100+  Free     0   \n",
       "10838     NaN       3                9.5M       1,000+  Free     0   \n",
       "10839     4.5     114  Varies with device       1,000+  Free     0   \n",
       "10840     4.5  398307                 19M  10,000,000+  Free     0   \n",
       "\n",
       "      Content Rating                     Genres      Last Updated  \\\n",
       "0           Everyone               Art & Design   January 7, 2018   \n",
       "1           Everyone  Art & Design;Pretend Play  January 15, 2018   \n",
       "2           Everyone               Art & Design    August 1, 2018   \n",
       "3               Teen               Art & Design      June 8, 2018   \n",
       "4           Everyone    Art & Design;Creativity     June 20, 2018   \n",
       "...              ...                        ...               ...   \n",
       "10836       Everyone                  Education     July 25, 2017   \n",
       "10837       Everyone                  Education      July 6, 2018   \n",
       "10838       Everyone                    Medical  January 20, 2017   \n",
       "10839     Mature 17+          Books & Reference  January 19, 2015   \n",
       "10840       Everyone                  Lifestyle     July 25, 2018   \n",
       "\n",
       "              Current Ver         Android Ver  \n",
       "0                   1.0.0        4.0.3 and up  \n",
       "1                   2.0.0        4.0.3 and up  \n",
       "2                   1.2.4        4.0.3 and up  \n",
       "3      Varies with device          4.2 and up  \n",
       "4                     1.1          4.4 and up  \n",
       "...                   ...                 ...  \n",
       "10836                1.48          4.1 and up  \n",
       "10837                 1.0          4.1 and up  \n",
       "10838                 1.0          2.2 and up  \n",
       "10839  Varies with device  Varies with device  \n",
       "10840  Varies with device  Varies with device  \n",
       "\n",
       "[10841 rows x 13 columns]"
      ]
     },
     "execution_count": 5,
     "metadata": {},
     "output_type": "execute_result"
    }
   ],
   "source": [
    "df"
   ]
  },
  {
   "cell_type": "markdown",
   "metadata": {
    "id": "sSdrOA3q0MaO"
   },
   "source": [
    "# Dataset description: Plots"
   ]
  },
  {
   "cell_type": "markdown",
   "metadata": {
    "id": "l1w12lMM6pSW"
   },
   "source": [
    "Usually, histograms are used a lot when checking distributions. You draw a bar graph by dividing the sections. However, you should be careful because the histogram results vary greatly depending on how you set the interval, which can lead to wrong conclusions and interpretations.\n",
    "\n",
    "---\n",
    "\n",
    "Therefore, **Kernel Density Estimator** (KDE) is a common alternative.\n",
    " * **sns.kdeplot(data, shade)**\n",
    " * data: Datasets you want to visualize.\n",
    " * shade: Determining whether to shade the space under the curve; **True, False**\n",
    " * clip: range of x\n",
    "---\n",
    "\n"
   ]
  },
  {
   "cell_type": "code",
   "execution_count": 6,
   "metadata": {},
   "outputs": [
    {
     "data": {
      "image/png": "[encoded data removed]",
      "text/plain": [
       "<Figure size 720x576 with 1 Axes>"
      ]
     },
     "metadata": {
      "needs_background": "light"
     },
     "output_type": "display_data"
    }
   ],
   "source": [
    "#\n",
    "first_ten_index=df[\"Category\"].value_counts().head(10).index\n",
    "first_ten_values=df[\"Category\"].value_counts().head(10).values\n",
    "\n",
    "fig, ax = plt.subplots(figsize=(10, 8))\n",
    "sns.barplot(x=first_ten_index, y=first_ten_values ).set_title('First 10 App Categories on Google Store',\n",
    "                                                              fontdict= { 'fontsize': 14,'fontweight':'bold'})\n",
    "plt.xticks(rotation=45)\n",
    "ax.set_ylabel('App # of Each category', size =12)\n",
    "for p in ax.patches: \n",
    "    ax.annotate(p.get_height(), (p.get_x()+0.2 , p.get_height()+0.3 ) );"
   ]
  },
  {
   "cell_type": "code",
   "execution_count": 7,
   "metadata": {
    "scrolled": false
   },
   "outputs": [
    {
     "data": {
      "image/png": "[encoded data removed]",
      "text/plain": [
       "<Figure size 1080x720 with 1 Axes>"
      ]
     },
     "metadata": {
      "needs_background": "light"
     },
     "output_type": "display_data"
    }
   ],
   "source": [
    "#The number of reviews in a category\n",
    "category_list = list(df['Category'].unique())\n",
    "category_review = []\n",
    "for i in category_list:\n",
    "    x = df[df['Category'] == i].copy()\n",
    "    x['Reviews'] = pd.to_numeric(x['Reviews'],errors='coerce')\n",
    "    if(len(x)!=0):\n",
    "        review = sum(x.Reviews)/len(x)\n",
    "        category_review.append(review)\n",
    "    else:\n",
    "        review = sum(x.Reviews)\n",
    "        category_review.append(review)\n",
    "#sorting\n",
    "data_category_reviews = pd.DataFrame({'category': category_list,'review':category_review})\n",
    "new_index = (data_category_reviews['review'].sort_values(ascending=False)).index.values\n",
    "sorted_data =data_category_reviews.reindex(new_index)\n",
    "\n",
    "# visualization\n",
    "plt.figure(figsize=(15,10))\n",
    "sns.barplot(x=sorted_data['category'], y=sorted_data['review'])\n",
    "plt.xticks(rotation=80)\n",
    "plt.xlabel(\"Category\")\n",
    "plt.ylabel(\"Reviews\")\n",
    "plt.title(\"Category and Reviews\")\n",
    "plt.show()"
   ]
  },
  {
   "cell_type": "code",
   "execution_count": 8,
   "metadata": {
    "colab": {
     "base_uri": "https://localhost:8080/",
     "height": 300
    },
    "id": "j7I8jIzYz3XS",
    "outputId": "297a2402-2df0-40e7-d6a1-a5e125a9c977"
   },
   "outputs": [
    {
     "data": {
      "image/png": "[encoded data removed]",
      "text/plain": [
       "<Figure size 432x288 with 1 Axes>"
      ]
     },
     "metadata": {
      "needs_background": "light"
     },
     "output_type": "display_data"
    }
   ],
   "source": [
    "g = sns.kdeplot(df.Rating, color=\"Red\", shade = True, clip=(0.0, 6.0))\n",
    "g.set_xlabel(\"Rating\")\n",
    "g.set_ylabel(\"Frequency\")\n",
    "plt.title('Distribution of Rating',size = 20)\n",
    "plt.show()"
   ]
  },
  {
   "cell_type": "code",
   "execution_count": 9,
   "metadata": {
    "id": "0fLHR2iUlbvJ"
   },
   "outputs": [],
   "source": [
    "review_numeric = pd.to_numeric(df['Reviews'],errors='coerce')"
   ]
  },
  {
   "cell_type": "code",
   "execution_count": 10,
   "metadata": {
    "colab": {
     "base_uri": "https://localhost:8080/",
     "height": 300
    },
    "id": "MwREUohp0RWv",
    "outputId": "0a97dc5b-ed75-4921-dd80-5713238ea5a8"
   },
   "outputs": [
    {
     "data": {
      "image/png": "[encoded data removed]",
      "text/plain": [
       "<Figure size 432x288 with 1 Axes>"
      ]
     },
     "metadata": {
      "needs_background": "light"
     },
     "output_type": "display_data"
    }
   ],
   "source": [
    "g = sns.kdeplot(review_numeric, color=\"Green\", shade = True, clip=(0.0, 5000000))\n",
    "g.set_xlabel(\"Reviews\")\n",
    "g.set_ylabel(\"Frequency\")\n",
    "plt.title('Distribution of Reveiw',size = 20)\n",
    "plt.show()"
   ]
  },
  {
   "cell_type": "code",
   "execution_count": 11,
   "metadata": {
    "id": "n2eW-bZxlZ0p"
   },
   "outputs": [],
   "source": [
    "install_numeric = df.Installs.copy()\n",
    "install_numeric = install_numeric.apply(lambda x: x.replace(',',''))\n",
    "install_numeric = install_numeric.apply(lambda x: x.replace('+',''))\n",
    "install_numeric = install_numeric.apply(lambda x: x.replace('Free','0'))\n",
    "install_numeric = install_numeric.apply(lambda x: x.replace('','0'))\n",
    "install_numeric = install_numeric.apply(lambda x: int(x))"
   ]
  },
  {
   "cell_type": "code",
   "execution_count": 12,
   "metadata": {
    "id": "SKw3nBYkm5N5"
   },
   "outputs": [],
   "source": [
    "Sorted_value = sorted(list(install_numeric.unique()))\n",
    "install_numeric.replace(Sorted_value,range(0,len(Sorted_value),1), inplace = True )"
   ]
  },
  {
   "cell_type": "code",
   "execution_count": 13,
   "metadata": {
    "colab": {
     "base_uri": "https://localhost:8080/",
     "height": 300
    },
    "id": "zdPvKbsKer2e",
    "outputId": "ffc4af76-d199-4e12-a00c-75f66927ffb0"
   },
   "outputs": [
    {
     "data": {
      "image/png": "[encoded data removed]",
      "text/plain": [
       "<Figure size 432x288 with 1 Axes>"
      ]
     },
     "metadata": {
      "needs_background": "light"
     },
     "output_type": "display_data"
    }
   ],
   "source": [
    "g = sns.kdeplot(install_numeric, color=\"Blue\", shade = True)\n",
    "g.set_xlabel(\"Installs\")\n",
    "g.set_ylabel(\"Frequency\")\n",
    "plt.title('Distribution of Installs',size = 20)\n",
    "plt.show()"
   ]
  },
  {
   "cell_type": "markdown",
   "metadata": {
    "id": "C1UZ_aB70kgz"
   },
   "source": [
    "## Missing Values\n"
   ]
  },
  {
   "cell_type": "markdown",
   "metadata": {
    "id": "STvXgDt0g3xo"
   },
   "source": [
    "### Null values"
   ]
  },
  {
   "cell_type": "code",
   "execution_count": 14,
   "metadata": {
    "colab": {
     "base_uri": "https://localhost:8080/"
    },
    "id": "lSujjMngg2Gq",
    "outputId": "437ff3f9-7329-4bc4-c7ea-25b5c518ab17"
   },
   "outputs": [
    {
     "data": {
      "text/plain": [
       "Rating            1474\n",
       "Current Ver          8\n",
       "Android Ver          3\n",
       "Type                 1\n",
       "Content Rating       1\n",
       "App                  0\n",
       "Category             0\n",
       "Reviews              0\n",
       "Size                 0\n",
       "Installs             0\n",
       "Price                0\n",
       "Genres               0\n",
       "Last Updated         0\n",
       "dtype: int64"
      ]
     },
     "execution_count": 14,
     "metadata": {},
     "output_type": "execute_result"
    }
   ],
   "source": [
    "df.isnull().sum().sort_values(ascending=False)"
   ]
  },
  {
   "cell_type": "code",
   "execution_count": 15,
   "metadata": {
    "id": "JQeVVVz-68S3"
   },
   "outputs": [],
   "source": [
    "df.dropna(axis=0, inplace=True)"
   ]
  },
  {
   "cell_type": "markdown",
   "metadata": {
    "id": "AS7CmukqgIjp"
   },
   "source": [
    "### Install has non numeric values ( \"Free\", \"+\" )\n",
    "\n"
   ]
  },
  {
   "cell_type": "code",
   "execution_count": 16,
   "metadata": {
    "colab": {
     "base_uri": "https://localhost:8080/"
    },
    "id": "L1K8D_5m0Rj_",
    "outputId": "67c02d60-d02e-473c-b6aa-cdb3be34e740"
   },
   "outputs": [
    {
     "data": {
      "text/plain": [
       "array(['10,000+', '500,000+', '5,000,000+', '50,000,000+', '100,000+',\n",
       "       '50,000+', '1,000,000+', '10,000,000+', '5,000+', '100,000,000+',\n",
       "       '1,000,000,000+', '1,000+', '500,000,000+', '100+', '500+', '10+',\n",
       "       '5+', '50+', '1+'], dtype=object)"
      ]
     },
     "execution_count": 16,
     "metadata": {},
     "output_type": "execute_result"
    }
   ],
   "source": [
    "df['Installs'].unique()"
   ]
  },
  {
   "cell_type": "code",
   "execution_count": 17,
   "metadata": {
    "colab": {
     "base_uri": "https://localhost:8080/"
    },
    "id": "TnyFv9BFCB_x",
    "outputId": "64a39d74-891d-4453-d7c3-65a5282ce38e"
   },
   "outputs": [
    {
     "data": {
      "text/plain": [
       "count     9360\n",
       "unique    5990\n",
       "top          2\n",
       "freq        83\n",
       "Name: Reviews, dtype: object"
      ]
     },
     "execution_count": 17,
     "metadata": {},
     "output_type": "execute_result"
    }
   ],
   "source": [
    "df['Reviews'].describe()"
   ]
  },
  {
   "cell_type": "markdown",
   "metadata": {
    "id": "7MCDid874_P7"
   },
   "source": [
    "# Wrong Values"
   ]
  },
  {
   "cell_type": "markdown",
   "metadata": {
    "id": "su7ytZPFgYCQ"
   },
   "source": [
    "### Rating has wrong value (>5)"
   ]
  },
  {
   "cell_type": "code",
   "execution_count": 18,
   "metadata": {
    "colab": {
     "base_uri": "https://localhost:8080/",
     "height": 49
    },
    "id": "mDBDvFE40RcD",
    "outputId": "bf59b0ab-bd80-4326-d9d9-f5ff744e83d5"
   },
   "outputs": [
    {
     "data": {
      "text/html": [
       "<div>\n",
       "<style scoped>\n",
       "    .dataframe tbody tr th:only-of-type {\n",
       "        vertical-align: middle;\n",
       "    }\n",
       "\n",
       "    .dataframe tbody tr th {\n",
       "        vertical-align: top;\n",
       "    }\n",
       "\n",
       "    .dataframe thead th {\n",
       "        text-align: right;\n",
       "    }\n",
       "</style>\n",
       "<table border=\"1\" class=\"dataframe\">\n",
       "  <thead>\n",
       "    <tr style=\"text-align: right;\">\n",
       "      <th></th>\n",
       "      <th>App</th>\n",
       "      <th>Category</th>\n",
       "      <th>Rating</th>\n",
       "      <th>Reviews</th>\n",
       "      <th>Size</th>\n",
       "      <th>Installs</th>\n",
       "      <th>Type</th>\n",
       "      <th>Price</th>\n",
       "      <th>Content Rating</th>\n",
       "      <th>Genres</th>\n",
       "      <th>Last Updated</th>\n",
       "      <th>Current Ver</th>\n",
       "      <th>Android Ver</th>\n",
       "    </tr>\n",
       "  </thead>\n",
       "  <tbody>\n",
       "  </tbody>\n",
       "</table>\n",
       "</div>"
      ],
      "text/plain": [
       "Empty DataFrame\n",
       "Columns: [App, Category, Rating, Reviews, Size, Installs, Type, Price, Content Rating, Genres, Last Updated, Current Ver, Android Ver]\n",
       "Index: []"
      ]
     },
     "execution_count": 18,
     "metadata": {},
     "output_type": "execute_result"
    }
   ],
   "source": [
    "df[ df['Rating'] > 5]"
   ]
  },
  {
   "cell_type": "code",
   "execution_count": 19,
   "metadata": {
    "id": "zlRlgpf4llN5"
   },
   "outputs": [],
   "source": [
    "c = df[ df['Rating'] > 5].index\n",
    "df.drop(c,inplace=True)"
   ]
  },
  {
   "cell_type": "markdown",
   "metadata": {
    "id": "HodQr4Hb9vXv"
   },
   "source": [
    "# Unusable"
   ]
  },
  {
   "cell_type": "markdown",
   "metadata": {
    "id": "IkiM17dx92RS"
   },
   "source": [
    "Remove unnecessary columns"
   ]
  },
  {
   "cell_type": "code",
   "execution_count": 20,
   "metadata": {
    "id": "cpLGdl5_9989"
   },
   "outputs": [],
   "source": [
    "df.drop(['Android Ver', 'Size','Genres'],axis=1, inplace=True)"
   ]
  },
  {
   "cell_type": "markdown",
   "metadata": {
    "id": "sjO6mwRTuui3"
   },
   "source": [
    "# Outliers"
   ]
  },
  {
   "cell_type": "markdown",
   "metadata": {
    "id": "cWSA2D6P5nuE"
   },
   "source": [
    "Drops the index of a value less than or greater than the minimum value.\n",
    "\n",
    "Using IQR of the Review."
   ]
  },
  {
   "cell_type": "code",
   "execution_count": 21,
   "metadata": {
    "id": "7TPbFzlvu9Eu"
   },
   "outputs": [],
   "source": [
    "df['Reviews'] = df['Reviews'].apply(pd.to_numeric,errors='coerce')"
   ]
  },
  {
   "cell_type": "code",
   "execution_count": 22,
   "metadata": {
    "colab": {
     "base_uri": "https://localhost:8080/"
    },
    "id": "DZTl3WAVvqLc",
    "outputId": "fd73111a-622d-405a-eaea-5cbdf44b53a4"
   },
   "outputs": [
    {
     "data": {
      "text/plain": [
       "App                object\n",
       "Category           object\n",
       "Rating            float64\n",
       "Reviews             int64\n",
       "Installs           object\n",
       "Type               object\n",
       "Price              object\n",
       "Content Rating     object\n",
       "Last Updated       object\n",
       "Current Ver        object\n",
       "dtype: object"
      ]
     },
     "execution_count": 22,
     "metadata": {},
     "output_type": "execute_result"
    }
   ],
   "source": [
    "df.dtypes"
   ]
  },
  {
   "cell_type": "code",
   "execution_count": 23,
   "metadata": {
    "colab": {
     "base_uri": "https://localhost:8080/"
    },
    "id": "AhLCYwXtvu43",
    "outputId": "1396e11a-97ef-4b2d-90f2-9ba63f09bad1"
   },
   "outputs": [
    {
     "data": {
      "text/plain": [
       "81427"
      ]
     },
     "execution_count": 23,
     "metadata": {},
     "output_type": "execute_result"
    }
   ],
   "source": [
    "q1=df['Reviews'].quantile(q=0.25, interpolation='nearest')\n",
    "q3=df['Reviews'].quantile(q=0.75, interpolation='nearest')\n",
    "q1=int(q1)\n",
    "q3=int(q3)\n",
    "iqr=q3-q1\n",
    "iqr"
   ]
  },
  {
   "cell_type": "code",
   "execution_count": 24,
   "metadata": {
    "id": "4ai2319tvvxR"
   },
   "outputs": [],
   "source": [
    "condition1=df['Reviews']<q1-1.5*iqr\n",
    "condition2=df['Reviews']>q3+1.5*iqr\n",
    "a=df[condition1].index\n",
    "b=df[condition2].index\n",
    "df.drop(a,inplace=True)\n",
    "df.drop(b,inplace=True)"
   ]
  },
  {
   "cell_type": "code",
   "execution_count": 25,
   "metadata": {
    "colab": {
     "base_uri": "https://localhost:8080/",
     "height": 424
    },
    "id": "acxg4yTJvyUA",
    "outputId": "529c37c4-85d3-4859-a6d7-c11ca3fa2d27"
   },
   "outputs": [
    {
     "data": {
      "text/html": [
       "<div>\n",
       "<style scoped>\n",
       "    .dataframe tbody tr th:only-of-type {\n",
       "        vertical-align: middle;\n",
       "    }\n",
       "\n",
       "    .dataframe tbody tr th {\n",
       "        vertical-align: top;\n",
       "    }\n",
       "\n",
       "    .dataframe thead th {\n",
       "        text-align: right;\n",
       "    }\n",
       "</style>\n",
       "<table border=\"1\" class=\"dataframe\">\n",
       "  <thead>\n",
       "    <tr style=\"text-align: right;\">\n",
       "      <th></th>\n",
       "      <th>App</th>\n",
       "      <th>Category</th>\n",
       "      <th>Rating</th>\n",
       "      <th>Reviews</th>\n",
       "      <th>Installs</th>\n",
       "      <th>Type</th>\n",
       "      <th>Price</th>\n",
       "      <th>Content Rating</th>\n",
       "      <th>Last Updated</th>\n",
       "      <th>Current Ver</th>\n",
       "    </tr>\n",
       "  </thead>\n",
       "  <tbody>\n",
       "    <tr>\n",
       "      <th>0</th>\n",
       "      <td>Photo Editor &amp; Candy Camera &amp; Grid &amp; ScrapBook</td>\n",
       "      <td>ART_AND_DESIGN</td>\n",
       "      <td>4.1</td>\n",
       "      <td>159</td>\n",
       "      <td>10,000+</td>\n",
       "      <td>Free</td>\n",
       "      <td>0</td>\n",
       "      <td>Everyone</td>\n",
       "      <td>January 7, 2018</td>\n",
       "      <td>1.0.0</td>\n",
       "    </tr>\n",
       "    <tr>\n",
       "      <th>1</th>\n",
       "      <td>Coloring book moana</td>\n",
       "      <td>ART_AND_DESIGN</td>\n",
       "      <td>3.9</td>\n",
       "      <td>967</td>\n",
       "      <td>500,000+</td>\n",
       "      <td>Free</td>\n",
       "      <td>0</td>\n",
       "      <td>Everyone</td>\n",
       "      <td>January 15, 2018</td>\n",
       "      <td>2.0.0</td>\n",
       "    </tr>\n",
       "    <tr>\n",
       "      <th>2</th>\n",
       "      <td>U Launcher Lite – FREE Live Cool Themes, Hide ...</td>\n",
       "      <td>ART_AND_DESIGN</td>\n",
       "      <td>4.7</td>\n",
       "      <td>87510</td>\n",
       "      <td>5,000,000+</td>\n",
       "      <td>Free</td>\n",
       "      <td>0</td>\n",
       "      <td>Everyone</td>\n",
       "      <td>August 1, 2018</td>\n",
       "      <td>1.2.4</td>\n",
       "    </tr>\n",
       "    <tr>\n",
       "      <th>4</th>\n",
       "      <td>Pixel Draw - Number Art Coloring Book</td>\n",
       "      <td>ART_AND_DESIGN</td>\n",
       "      <td>4.3</td>\n",
       "      <td>967</td>\n",
       "      <td>100,000+</td>\n",
       "      <td>Free</td>\n",
       "      <td>0</td>\n",
       "      <td>Everyone</td>\n",
       "      <td>June 20, 2018</td>\n",
       "      <td>1.1</td>\n",
       "    </tr>\n",
       "    <tr>\n",
       "      <th>5</th>\n",
       "      <td>Paper flowers instructions</td>\n",
       "      <td>ART_AND_DESIGN</td>\n",
       "      <td>4.4</td>\n",
       "      <td>167</td>\n",
       "      <td>50,000+</td>\n",
       "      <td>Free</td>\n",
       "      <td>0</td>\n",
       "      <td>Everyone</td>\n",
       "      <td>March 26, 2017</td>\n",
       "      <td>1.0</td>\n",
       "    </tr>\n",
       "    <tr>\n",
       "      <th>...</th>\n",
       "      <td>...</td>\n",
       "      <td>...</td>\n",
       "      <td>...</td>\n",
       "      <td>...</td>\n",
       "      <td>...</td>\n",
       "      <td>...</td>\n",
       "      <td>...</td>\n",
       "      <td>...</td>\n",
       "      <td>...</td>\n",
       "      <td>...</td>\n",
       "    </tr>\n",
       "    <tr>\n",
       "      <th>10833</th>\n",
       "      <td>Chemin (fr)</td>\n",
       "      <td>BOOKS_AND_REFERENCE</td>\n",
       "      <td>4.8</td>\n",
       "      <td>44</td>\n",
       "      <td>1,000+</td>\n",
       "      <td>Free</td>\n",
       "      <td>0</td>\n",
       "      <td>Everyone</td>\n",
       "      <td>March 23, 2014</td>\n",
       "      <td>0.8</td>\n",
       "    </tr>\n",
       "    <tr>\n",
       "      <th>10834</th>\n",
       "      <td>FR Calculator</td>\n",
       "      <td>FAMILY</td>\n",
       "      <td>4.0</td>\n",
       "      <td>7</td>\n",
       "      <td>500+</td>\n",
       "      <td>Free</td>\n",
       "      <td>0</td>\n",
       "      <td>Everyone</td>\n",
       "      <td>June 18, 2017</td>\n",
       "      <td>1.0.0</td>\n",
       "    </tr>\n",
       "    <tr>\n",
       "      <th>10836</th>\n",
       "      <td>Sya9a Maroc - FR</td>\n",
       "      <td>FAMILY</td>\n",
       "      <td>4.5</td>\n",
       "      <td>38</td>\n",
       "      <td>5,000+</td>\n",
       "      <td>Free</td>\n",
       "      <td>0</td>\n",
       "      <td>Everyone</td>\n",
       "      <td>July 25, 2017</td>\n",
       "      <td>1.48</td>\n",
       "    </tr>\n",
       "    <tr>\n",
       "      <th>10837</th>\n",
       "      <td>Fr. Mike Schmitz Audio Teachings</td>\n",
       "      <td>FAMILY</td>\n",
       "      <td>5.0</td>\n",
       "      <td>4</td>\n",
       "      <td>100+</td>\n",
       "      <td>Free</td>\n",
       "      <td>0</td>\n",
       "      <td>Everyone</td>\n",
       "      <td>July 6, 2018</td>\n",
       "      <td>1.0</td>\n",
       "    </tr>\n",
       "    <tr>\n",
       "      <th>10839</th>\n",
       "      <td>The SCP Foundation DB fr nn5n</td>\n",
       "      <td>BOOKS_AND_REFERENCE</td>\n",
       "      <td>4.5</td>\n",
       "      <td>114</td>\n",
       "      <td>1,000+</td>\n",
       "      <td>Free</td>\n",
       "      <td>0</td>\n",
       "      <td>Mature 17+</td>\n",
       "      <td>January 19, 2015</td>\n",
       "      <td>Varies with device</td>\n",
       "    </tr>\n",
       "  </tbody>\n",
       "</table>\n",
       "<p>7726 rows × 10 columns</p>\n",
       "</div>"
      ],
      "text/plain": [
       "                                                     App             Category  \\\n",
       "0         Photo Editor & Candy Camera & Grid & ScrapBook       ART_AND_DESIGN   \n",
       "1                                    Coloring book moana       ART_AND_DESIGN   \n",
       "2      U Launcher Lite – FREE Live Cool Themes, Hide ...       ART_AND_DESIGN   \n",
       "4                  Pixel Draw - Number Art Coloring Book       ART_AND_DESIGN   \n",
       "5                             Paper flowers instructions       ART_AND_DESIGN   \n",
       "...                                                  ...                  ...   \n",
       "10833                                        Chemin (fr)  BOOKS_AND_REFERENCE   \n",
       "10834                                      FR Calculator               FAMILY   \n",
       "10836                                   Sya9a Maroc - FR               FAMILY   \n",
       "10837                   Fr. Mike Schmitz Audio Teachings               FAMILY   \n",
       "10839                      The SCP Foundation DB fr nn5n  BOOKS_AND_REFERENCE   \n",
       "\n",
       "       Rating  Reviews    Installs  Type Price Content Rating  \\\n",
       "0         4.1      159     10,000+  Free     0       Everyone   \n",
       "1         3.9      967    500,000+  Free     0       Everyone   \n",
       "2         4.7    87510  5,000,000+  Free     0       Everyone   \n",
       "4         4.3      967    100,000+  Free     0       Everyone   \n",
       "5         4.4      167     50,000+  Free     0       Everyone   \n",
       "...       ...      ...         ...   ...   ...            ...   \n",
       "10833     4.8       44      1,000+  Free     0       Everyone   \n",
       "10834     4.0        7        500+  Free     0       Everyone   \n",
       "10836     4.5       38      5,000+  Free     0       Everyone   \n",
       "10837     5.0        4        100+  Free     0       Everyone   \n",
       "10839     4.5      114      1,000+  Free     0     Mature 17+   \n",
       "\n",
       "           Last Updated         Current Ver  \n",
       "0       January 7, 2018               1.0.0  \n",
       "1      January 15, 2018               2.0.0  \n",
       "2        August 1, 2018               1.2.4  \n",
       "4         June 20, 2018                 1.1  \n",
       "5        March 26, 2017                 1.0  \n",
       "...                 ...                 ...  \n",
       "10833    March 23, 2014                 0.8  \n",
       "10834     June 18, 2017               1.0.0  \n",
       "10836     July 25, 2017                1.48  \n",
       "10837      July 6, 2018                 1.0  \n",
       "10839  January 19, 2015  Varies with device  \n",
       "\n",
       "[7726 rows x 10 columns]"
      ]
     },
     "execution_count": 25,
     "metadata": {},
     "output_type": "execute_result"
    }
   ],
   "source": [
    "df"
   ]
  },
  {
   "cell_type": "code",
   "execution_count": 26,
   "metadata": {},
   "outputs": [
    {
     "name": "stdout",
     "output_type": "stream",
     "text": [
      "q1: 100 q3: 23060\n"
     ]
    }
   ],
   "source": [
    "#outlier처리된 Reviews의 q1,q3값. labeling할 예정\n",
    "q1=df['Reviews'].quantile(q=0.25, interpolation='nearest')\n",
    "q3=df['Reviews'].quantile(q=0.75, interpolation='nearest')\n",
    "q1=int(q1)\n",
    "q3=int(q3)\n",
    "print(\"q1:\", q1, \"q3:\", q3)"
   ]
  },
  {
   "cell_type": "code",
   "execution_count": 27,
   "metadata": {
    "scrolled": true
   },
   "outputs": [
    {
     "data": {
      "text/html": [
       "<div>\n",
       "<style scoped>\n",
       "    .dataframe tbody tr th:only-of-type {\n",
       "        vertical-align: middle;\n",
       "    }\n",
       "\n",
       "    .dataframe tbody tr th {\n",
       "        vertical-align: top;\n",
       "    }\n",
       "\n",
       "    .dataframe thead th {\n",
       "        text-align: right;\n",
       "    }\n",
       "</style>\n",
       "<table border=\"1\" class=\"dataframe\">\n",
       "  <thead>\n",
       "    <tr style=\"text-align: right;\">\n",
       "      <th></th>\n",
       "      <th>App</th>\n",
       "      <th>Category</th>\n",
       "      <th>Rating</th>\n",
       "      <th>Reviews</th>\n",
       "      <th>Installs</th>\n",
       "      <th>Type</th>\n",
       "      <th>Price</th>\n",
       "      <th>Content Rating</th>\n",
       "      <th>Last Updated</th>\n",
       "      <th>Current Ver</th>\n",
       "      <th>Review_labeling</th>\n",
       "    </tr>\n",
       "  </thead>\n",
       "  <tbody>\n",
       "    <tr>\n",
       "      <th>0</th>\n",
       "      <td>Photo Editor &amp; Candy Camera &amp; Grid &amp; ScrapBook</td>\n",
       "      <td>ART_AND_DESIGN</td>\n",
       "      <td>4.1</td>\n",
       "      <td>159</td>\n",
       "      <td>10,000+</td>\n",
       "      <td>Free</td>\n",
       "      <td>0</td>\n",
       "      <td>Everyone</td>\n",
       "      <td>January 7, 2018</td>\n",
       "      <td>1.0.0</td>\n",
       "      <td>0</td>\n",
       "    </tr>\n",
       "    <tr>\n",
       "      <th>1</th>\n",
       "      <td>Coloring book moana</td>\n",
       "      <td>ART_AND_DESIGN</td>\n",
       "      <td>3.9</td>\n",
       "      <td>967</td>\n",
       "      <td>500,000+</td>\n",
       "      <td>Free</td>\n",
       "      <td>0</td>\n",
       "      <td>Everyone</td>\n",
       "      <td>January 15, 2018</td>\n",
       "      <td>2.0.0</td>\n",
       "      <td>0</td>\n",
       "    </tr>\n",
       "    <tr>\n",
       "      <th>2</th>\n",
       "      <td>U Launcher Lite – FREE Live Cool Themes, Hide ...</td>\n",
       "      <td>ART_AND_DESIGN</td>\n",
       "      <td>4.7</td>\n",
       "      <td>87510</td>\n",
       "      <td>5,000,000+</td>\n",
       "      <td>Free</td>\n",
       "      <td>0</td>\n",
       "      <td>Everyone</td>\n",
       "      <td>August 1, 2018</td>\n",
       "      <td>1.2.4</td>\n",
       "      <td>1</td>\n",
       "    </tr>\n",
       "    <tr>\n",
       "      <th>4</th>\n",
       "      <td>Pixel Draw - Number Art Coloring Book</td>\n",
       "      <td>ART_AND_DESIGN</td>\n",
       "      <td>4.3</td>\n",
       "      <td>967</td>\n",
       "      <td>100,000+</td>\n",
       "      <td>Free</td>\n",
       "      <td>0</td>\n",
       "      <td>Everyone</td>\n",
       "      <td>June 20, 2018</td>\n",
       "      <td>1.1</td>\n",
       "      <td>0</td>\n",
       "    </tr>\n",
       "    <tr>\n",
       "      <th>5</th>\n",
       "      <td>Paper flowers instructions</td>\n",
       "      <td>ART_AND_DESIGN</td>\n",
       "      <td>4.4</td>\n",
       "      <td>167</td>\n",
       "      <td>50,000+</td>\n",
       "      <td>Free</td>\n",
       "      <td>0</td>\n",
       "      <td>Everyone</td>\n",
       "      <td>March 26, 2017</td>\n",
       "      <td>1.0</td>\n",
       "      <td>0</td>\n",
       "    </tr>\n",
       "    <tr>\n",
       "      <th>...</th>\n",
       "      <td>...</td>\n",
       "      <td>...</td>\n",
       "      <td>...</td>\n",
       "      <td>...</td>\n",
       "      <td>...</td>\n",
       "      <td>...</td>\n",
       "      <td>...</td>\n",
       "      <td>...</td>\n",
       "      <td>...</td>\n",
       "      <td>...</td>\n",
       "      <td>...</td>\n",
       "    </tr>\n",
       "    <tr>\n",
       "      <th>10833</th>\n",
       "      <td>Chemin (fr)</td>\n",
       "      <td>BOOKS_AND_REFERENCE</td>\n",
       "      <td>4.8</td>\n",
       "      <td>44</td>\n",
       "      <td>1,000+</td>\n",
       "      <td>Free</td>\n",
       "      <td>0</td>\n",
       "      <td>Everyone</td>\n",
       "      <td>March 23, 2014</td>\n",
       "      <td>0.8</td>\n",
       "      <td>0</td>\n",
       "    </tr>\n",
       "    <tr>\n",
       "      <th>10834</th>\n",
       "      <td>FR Calculator</td>\n",
       "      <td>FAMILY</td>\n",
       "      <td>4.0</td>\n",
       "      <td>7</td>\n",
       "      <td>500+</td>\n",
       "      <td>Free</td>\n",
       "      <td>0</td>\n",
       "      <td>Everyone</td>\n",
       "      <td>June 18, 2017</td>\n",
       "      <td>1.0.0</td>\n",
       "      <td>0</td>\n",
       "    </tr>\n",
       "    <tr>\n",
       "      <th>10836</th>\n",
       "      <td>Sya9a Maroc - FR</td>\n",
       "      <td>FAMILY</td>\n",
       "      <td>4.5</td>\n",
       "      <td>38</td>\n",
       "      <td>5,000+</td>\n",
       "      <td>Free</td>\n",
       "      <td>0</td>\n",
       "      <td>Everyone</td>\n",
       "      <td>July 25, 2017</td>\n",
       "      <td>1.48</td>\n",
       "      <td>0</td>\n",
       "    </tr>\n",
       "    <tr>\n",
       "      <th>10837</th>\n",
       "      <td>Fr. Mike Schmitz Audio Teachings</td>\n",
       "      <td>FAMILY</td>\n",
       "      <td>5.0</td>\n",
       "      <td>4</td>\n",
       "      <td>100+</td>\n",
       "      <td>Free</td>\n",
       "      <td>0</td>\n",
       "      <td>Everyone</td>\n",
       "      <td>July 6, 2018</td>\n",
       "      <td>1.0</td>\n",
       "      <td>0</td>\n",
       "    </tr>\n",
       "    <tr>\n",
       "      <th>10839</th>\n",
       "      <td>The SCP Foundation DB fr nn5n</td>\n",
       "      <td>BOOKS_AND_REFERENCE</td>\n",
       "      <td>4.5</td>\n",
       "      <td>114</td>\n",
       "      <td>1,000+</td>\n",
       "      <td>Free</td>\n",
       "      <td>0</td>\n",
       "      <td>Mature 17+</td>\n",
       "      <td>January 19, 2015</td>\n",
       "      <td>Varies with device</td>\n",
       "      <td>0</td>\n",
       "    </tr>\n",
       "  </tbody>\n",
       "</table>\n",
       "<p>7726 rows × 11 columns</p>\n",
       "</div>"
      ],
      "text/plain": [
       "                                                     App             Category  \\\n",
       "0         Photo Editor & Candy Camera & Grid & ScrapBook       ART_AND_DESIGN   \n",
       "1                                    Coloring book moana       ART_AND_DESIGN   \n",
       "2      U Launcher Lite – FREE Live Cool Themes, Hide ...       ART_AND_DESIGN   \n",
       "4                  Pixel Draw - Number Art Coloring Book       ART_AND_DESIGN   \n",
       "5                             Paper flowers instructions       ART_AND_DESIGN   \n",
       "...                                                  ...                  ...   \n",
       "10833                                        Chemin (fr)  BOOKS_AND_REFERENCE   \n",
       "10834                                      FR Calculator               FAMILY   \n",
       "10836                                   Sya9a Maroc - FR               FAMILY   \n",
       "10837                   Fr. Mike Schmitz Audio Teachings               FAMILY   \n",
       "10839                      The SCP Foundation DB fr nn5n  BOOKS_AND_REFERENCE   \n",
       "\n",
       "       Rating  Reviews    Installs  Type Price Content Rating  \\\n",
       "0         4.1      159     10,000+  Free     0       Everyone   \n",
       "1         3.9      967    500,000+  Free     0       Everyone   \n",
       "2         4.7    87510  5,000,000+  Free     0       Everyone   \n",
       "4         4.3      967    100,000+  Free     0       Everyone   \n",
       "5         4.4      167     50,000+  Free     0       Everyone   \n",
       "...       ...      ...         ...   ...   ...            ...   \n",
       "10833     4.8       44      1,000+  Free     0       Everyone   \n",
       "10834     4.0        7        500+  Free     0       Everyone   \n",
       "10836     4.5       38      5,000+  Free     0       Everyone   \n",
       "10837     5.0        4        100+  Free     0       Everyone   \n",
       "10839     4.5      114      1,000+  Free     0     Mature 17+   \n",
       "\n",
       "           Last Updated         Current Ver  Review_labeling  \n",
       "0       January 7, 2018               1.0.0                0  \n",
       "1      January 15, 2018               2.0.0                0  \n",
       "2        August 1, 2018               1.2.4                1  \n",
       "4         June 20, 2018                 1.1                0  \n",
       "5        March 26, 2017                 1.0                0  \n",
       "...                 ...                 ...              ...  \n",
       "10833    March 23, 2014                 0.8                0  \n",
       "10834     June 18, 2017               1.0.0                0  \n",
       "10836     July 25, 2017                1.48                0  \n",
       "10837      July 6, 2018                 1.0                0  \n",
       "10839  January 19, 2015  Varies with device                0  \n",
       "\n",
       "[7726 rows x 11 columns]"
      ]
     },
     "execution_count": 27,
     "metadata": {},
     "output_type": "execute_result"
    }
   ],
   "source": [
    "#75% or more value judged as interested (1)\n",
    "df[\"Review_labeling\"] =df[\"Reviews\"].apply(lambda x: 1 if x >= 23060 else 0)\n",
    "df"
   ]
  },
  {
   "cell_type": "markdown",
   "metadata": {
    "id": "qqVlKkYToRXc"
   },
   "source": [
    "# **Encoder**\n",
    "Encoding for data missing algorithms\n",
    "Map data to an array for processing by data mining algorithms.\n",
    "\n",
    "*   Convert non-numeric data to numeric data.\n",
    " *   Categorical data -> numeric data\n",
    " *   text -> numeric data\n",
    "*   Convert data to be in [0, 1] for processing by neural networks.\n",
    "\n",
    "\n"
   ]
  },
  {
   "cell_type": "code",
   "execution_count": 28,
   "metadata": {
    "colab": {
     "base_uri": "https://localhost:8080/"
    },
    "id": "f4uu6Jocf_Yx",
    "outputId": "4e2f02b0-e324-4aad-92df-7c10a099d91a"
   },
   "outputs": [
    {
     "name": "stdout",
     "output_type": "stream",
     "text": [
      "<class 'pandas.core.frame.DataFrame'>\n",
      "Int64Index: 7726 entries, 0 to 10839\n",
      "Data columns (total 11 columns):\n",
      " #   Column           Non-Null Count  Dtype  \n",
      "---  ------           --------------  -----  \n",
      " 0   App              7726 non-null   object \n",
      " 1   Category         7726 non-null   object \n",
      " 2   Rating           7726 non-null   float64\n",
      " 3   Reviews          7726 non-null   int64  \n",
      " 4   Installs         7726 non-null   object \n",
      " 5   Type             7726 non-null   object \n",
      " 6   Price            7726 non-null   object \n",
      " 7   Content Rating   7726 non-null   object \n",
      " 8   Last Updated     7726 non-null   object \n",
      " 9   Current Ver      7726 non-null   object \n",
      " 10  Review_labeling  7726 non-null   int64  \n",
      "dtypes: float64(1), int64(2), object(8)\n",
      "memory usage: 724.3+ KB\n"
     ]
    }
   ],
   "source": [
    "df.info()"
   ]
  },
  {
   "cell_type": "markdown",
   "metadata": {
    "id": "5Kf-kmVLejSX"
   },
   "source": [
    "---\n",
    "2. Encode ***df['Installs']***\n"
   ]
  },
  {
   "cell_type": "code",
   "execution_count": 29,
   "metadata": {
    "id": "j7K4NL-_qWPQ"
   },
   "outputs": [],
   "source": [
    "# Cleaning the number of installations column\n",
    "#df['Installs'] = [int(i[:-1].replace(',','+','')) for i in df['Installs']]\n",
    "df.Installs = df.Installs.apply(lambda x: x.replace(',',''))\n",
    "df.Installs = df.Installs.apply(lambda x: x.replace('+',''))\n",
    "df.Installs = df.Installs.apply(lambda x: x.replace('Free','0'))\n",
    "df.Installs = df.Installs.apply(lambda x: x.replace('','0'))\n",
    "df.Installs = df.Installs.apply(lambda x: int(x))"
   ]
  },
  {
   "cell_type": "code",
   "execution_count": 30,
   "metadata": {
    "colab": {
     "base_uri": "https://localhost:8080/"
    },
    "id": "AvL_AAtVqYer",
    "outputId": "6f235a4b-97e0-4643-a427-96e32c195f31"
   },
   "outputs": [
    {
     "data": {
      "text/plain": [
       "array([        1000000000,       500000000000,     50000000000000,\n",
       "             100000000000,         5000000000,     10000000000000,\n",
       "         1000000000000000,           50000000,   5000000000000000,\n",
       "                 10000000,             100000,             500000,\n",
       "                     1000,                 50,               5000,\n",
       "                       10, 100000000000000000], dtype=int64)"
      ]
     },
     "execution_count": 30,
     "metadata": {},
     "output_type": "execute_result"
    }
   ],
   "source": [
    "df['Installs'].unique()"
   ]
  },
  {
   "cell_type": "markdown",
   "metadata": {
    "id": "yz6-CqkfeqEp"
   },
   "source": [
    "---\n",
    "3. Encode ***df['Type']***\n"
   ]
  },
  {
   "cell_type": "code",
   "execution_count": 31,
   "metadata": {
    "id": "6VStZ5QtqYh6"
   },
   "outputs": [],
   "source": [
    "# Converting Type classification into binary\n",
    "def type_cat(types):\n",
    "    if types == 'Free':\n",
    "        return 0\n",
    "    else:\n",
    "        return 1\n",
    "\n",
    "df['Type'] = df['Type'].map(type_cat)"
   ]
  },
  {
   "cell_type": "markdown",
   "metadata": {
    "id": "4vPW5g-ZeyFy"
   },
   "source": [
    "---\n",
    "4. Encode ***df['Content Rating']***\n"
   ]
  },
  {
   "cell_type": "code",
   "execution_count": 32,
   "metadata": {
    "id": "mHEOxAhMqYk0"
   },
   "outputs": [],
   "source": [
    "#Cleaning of content rating classification\n",
    "RatingL = df['Content Rating'].unique()\n",
    "RatingDict = {}\n",
    "for i in range(len(RatingL)):\n",
    "    RatingDict[RatingL[i]] = i\n",
    "df['Content Rating'] = df['Content Rating'].map(RatingDict).astype(int)"
   ]
  },
  {
   "cell_type": "markdown",
   "metadata": {
    "id": "6qxZQHpBcP2o"
   },
   "source": [
    "---\n",
    "5. Encode ***df['Price']***\n",
    "*   non-numeric value : $\n",
    "*   change *object* into *float*\n",
    "\n",
    "\n"
   ]
  },
  {
   "cell_type": "code",
   "execution_count": 33,
   "metadata": {
    "colab": {
     "base_uri": "https://localhost:8080/"
    },
    "id": "pDHt3Y1IcjZj",
    "outputId": "773583b4-90c7-498b-ebb8-b47694d1568e"
   },
   "outputs": [
    {
     "data": {
      "text/plain": [
       "array(['0', '$4.99', '$3.99', '$6.99', '$7.99', '$5.99', '$2.99', '$3.49',\n",
       "       '$1.99', '$9.99', '$7.49', '$0.99', '$9.00', '$5.49', '$10.00',\n",
       "       '$24.99', '$11.99', '$79.99', '$16.99', '$14.99', '$29.99',\n",
       "       '$12.99', '$2.49', '$10.99', '$1.50', '$19.99', '$15.99', '$33.99',\n",
       "       '$39.99', '$3.95', '$4.49', '$1.70', '$8.99', '$1.49', '$3.88',\n",
       "       '$399.99', '$17.99', '$400.00', '$3.02', '$1.76', '$4.84', '$4.77',\n",
       "       '$1.61', '$2.50', '$1.59', '$6.49', '$1.29', '$299.99', '$379.99',\n",
       "       '$37.99', '$18.99', '$389.99', '$8.49', '$1.75', '$14.00', '$2.00',\n",
       "       '$3.08', '$2.59', '$19.40', '$3.90', '$4.59', '$15.46', '$3.04',\n",
       "       '$13.99', '$4.29', '$3.28', '$4.60', '$1.00', '$2.95', '$2.90',\n",
       "       '$1.97', '$2.56', '$1.20'], dtype=object)"
      ]
     },
     "execution_count": 33,
     "metadata": {},
     "output_type": "execute_result"
    }
   ],
   "source": [
    "df['Price'].unique()"
   ]
  },
  {
   "cell_type": "code",
   "execution_count": 34,
   "metadata": {
    "colab": {
     "base_uri": "https://localhost:8080/"
    },
    "id": "DXm50hXDqhNz",
    "outputId": "26c12239-4361-4e1a-c3f8-e6f390522d3e"
   },
   "outputs": [
    {
     "data": {
      "text/plain": [
       "array(['0', '$4.99', '$3.99', '$6.99', '$7.99', '$5.99', '$2.99', '$3.49',\n",
       "       '$1.99', '$9.99', '$7.49', '$0.99', '$9.00', '$5.49', '$10.00',\n",
       "       '$24.99', '$11.99', '$79.99', '$16.99', '$14.99', '$29.99',\n",
       "       '$12.99', '$2.49', '$10.99', '$1.50', '$19.99', '$15.99', '$33.99',\n",
       "       '$39.99', '$3.95', '$4.49', '$1.70', '$8.99', '$1.49', '$3.88',\n",
       "       '$399.99', '$17.99', '$400.00', '$3.02', '$1.76', '$4.84', '$4.77',\n",
       "       '$1.61', '$2.50', '$1.59', '$6.49', '$1.29', '$299.99', '$379.99',\n",
       "       '$37.99', '$18.99', '$389.99', '$8.49', '$1.75', '$14.00', '$2.00',\n",
       "       '$3.08', '$2.59', '$19.40', '$3.90', '$4.59', '$15.46', '$3.04',\n",
       "       '$13.99', '$4.29', '$3.28', '$4.60', '$1.00', '$2.95', '$2.90',\n",
       "       '$1.97', '$2.56', '$1.20'], dtype=object)"
      ]
     },
     "execution_count": 34,
     "metadata": {},
     "output_type": "execute_result"
    }
   ],
   "source": [
    "# Missing value 파트에서 다루면 지우기.\n",
    "# df['Price']에 'Everyone' 값이 오류가 남 => 'Everyone'이 있는 행을 지워줌.\n",
    "df.drop(df.loc[df['Price'] == 'Everyone'].index, inplace = True)\n",
    "df['Price'].unique()"
   ]
  },
  {
   "cell_type": "code",
   "execution_count": 35,
   "metadata": {
    "id": "d49A9bovqhQp"
   },
   "outputs": [],
   "source": [
    "# Price cealning\n",
    "df.Price = df.Price.apply(lambda x: x.replace('$',''))\n",
    "df['Price'] = df['Price'].apply(lambda x: float(x))"
   ]
  },
  {
   "cell_type": "code",
   "execution_count": 36,
   "metadata": {
    "colab": {
     "base_uri": "https://localhost:8080/"
    },
    "id": "dBP2i4bCqhT1",
    "outputId": "5b822404-5596-414f-a50b-cb55ea895bd1"
   },
   "outputs": [
    {
     "data": {
      "text/plain": [
       "array([  0.  ,   4.99,   3.99,   6.99,   7.99,   5.99,   2.99,   3.49,\n",
       "         1.99,   9.99,   7.49,   0.99,   9.  ,   5.49,  10.  ,  24.99,\n",
       "        11.99,  79.99,  16.99,  14.99,  29.99,  12.99,   2.49,  10.99,\n",
       "         1.5 ,  19.99,  15.99,  33.99,  39.99,   3.95,   4.49,   1.7 ,\n",
       "         8.99,   1.49,   3.88, 399.99,  17.99, 400.  ,   3.02,   1.76,\n",
       "         4.84,   4.77,   1.61,   2.5 ,   1.59,   6.49,   1.29, 299.99,\n",
       "       379.99,  37.99,  18.99, 389.99,   8.49,   1.75,  14.  ,   2.  ,\n",
       "         3.08,   2.59,  19.4 ,   3.9 ,   4.59,  15.46,   3.04,  13.99,\n",
       "         4.29,   3.28,   4.6 ,   1.  ,   2.95,   2.9 ,   1.97,   2.56,\n",
       "         1.2 ])"
      ]
     },
     "execution_count": 36,
     "metadata": {},
     "output_type": "execute_result"
    }
   ],
   "source": [
    "df['Price'].unique()"
   ]
  },
  {
   "cell_type": "markdown",
   "metadata": {
    "id": "a_Zvw-ArIuBN"
   },
   "source": [
    "\n",
    "\n",
    "---\n",
    "5. Encode ***df['Last Updated']***\n"
   ]
  },
  {
   "cell_type": "code",
   "execution_count": 37,
   "metadata": {
    "colab": {
     "base_uri": "https://localhost:8080/"
    },
    "id": "BnvmhXnYIyz0",
    "outputId": "53cb8005-3e53-4bce-cdbd-9a7285fc25f3"
   },
   "outputs": [
    {
     "data": {
      "text/plain": [
       "0   2018-01-07\n",
       "1   2018-01-15\n",
       "2   2018-08-01\n",
       "4   2018-06-20\n",
       "5   2017-03-26\n",
       "Name: Last Updated, dtype: datetime64[ns]"
      ]
     },
     "execution_count": 37,
     "metadata": {},
     "output_type": "execute_result"
    }
   ],
   "source": [
    "## Last Updated -> Date type\n",
    "from datetime import datetime,date\n",
    "df['Last Updated']=pd.to_datetime(df['Last Updated'])\n",
    "df['Last Updated'].head()"
   ]
  },
  {
   "cell_type": "code",
   "execution_count": 38,
   "metadata": {
    "colab": {
     "base_uri": "https://localhost:8080/"
    },
    "id": "wzhSIb5yw7q4",
    "outputId": "2ec8b164-70c8-4a0d-bad6-a0e8b918c5a4"
   },
   "outputs": [
    {
     "data": {
      "text/plain": [
       "0        1072\n",
       "1        1080\n",
       "2        1277\n",
       "4        1235\n",
       "5         801\n",
       "         ... \n",
       "10833     133\n",
       "10834     875\n",
       "10836     911\n",
       "10837    1251\n",
       "10839     242\n",
       "Name: Last Updated, Length: 7726, dtype: int64"
      ]
     },
     "execution_count": 38,
     "metadata": {},
     "output_type": "execute_result"
    }
   ],
   "source": [
    "from sklearn.preprocessing import LabelEncoder\n",
    "label_encoder = LabelEncoder().fit(df['Last Updated'])\n",
    "df['Last Updated'] = label_encoder.transform(df['Last Updated'])\n",
    "df['Last Updated']"
   ]
  },
  {
   "cell_type": "markdown",
   "metadata": {
    "id": "CfaT_meHJmH1"
   },
   "source": [
    "\n",
    "\n",
    "---\n",
    "5. Encode ***df['Current Ver']***\n"
   ]
  },
  {
   "cell_type": "code",
   "execution_count": 39,
   "metadata": {
    "colab": {
     "base_uri": "https://localhost:8080/"
    },
    "id": "8MEzF0lyJr4O",
    "outputId": "c15a3c79-9838-4a53-bd52-69322b0eae8e"
   },
   "outputs": [
    {
     "data": {
      "text/plain": [
       "0    1.00\n",
       "1    2.00\n",
       "2    1.24\n",
       "4    1.10\n",
       "5    1.00\n",
       "Name: Current Ver, dtype: float64"
      ]
     },
     "execution_count": 39,
     "metadata": {},
     "output_type": "execute_result"
    }
   ],
   "source": [
    "import re\n",
    "replaces = [u'\\u00AE', u'\\u2013', u'\\u00C3', u'\\u00E3', u'\\u00B3', '[', ']', \"'\"]\n",
    "for i in replaces:\n",
    "    df['Current Ver'] = df['Current Ver'].astype(str).apply(lambda x : x.replace(i, ''))\n",
    "\n",
    "regex = [r'[-+|/:/;(_)@]', r'\\s+', r'[A-Za-z]+']\n",
    "for j in regex:\n",
    "    df['Current Ver'] = df['Current Ver'].astype(str).apply(lambda x : re.sub(j, '0', x))\n",
    "\n",
    "df['Current Ver'] = df['Current Ver'].astype(str).apply(lambda x : x.replace('.', ',',1).replace('.', '').replace(',', '.',1)).astype(float)\n",
    "df['Current Ver'] = df['Current Ver'].fillna(df['Current Ver'].median())\n",
    "df['Current Ver'].head()"
   ]
  },
  {
   "cell_type": "markdown",
   "metadata": {
    "id": "6k5i7KhWqxVh"
   },
   "source": [
    "---\n",
    "5. Encode ***df['Reviews']***\n",
    "*   Don't need to Encoding ***df['Reviews']*** ; float64\n",
    "\n",
    "\n"
   ]
  },
  {
   "cell_type": "code",
   "execution_count": 40,
   "metadata": {
    "colab": {
     "base_uri": "https://localhost:8080/"
    },
    "id": "LVW6MhFlqhW3",
    "outputId": "f0c1eeef-1116-4ed4-efe9-de3c16b9f769"
   },
   "outputs": [
    {
     "data": {
      "text/plain": [
       "0          159\n",
       "1          967\n",
       "2        87510\n",
       "4          967\n",
       "5          167\n",
       "         ...  \n",
       "10833       44\n",
       "10834        7\n",
       "10836       38\n",
       "10837        4\n",
       "10839      114\n",
       "Name: Reviews, Length: 7726, dtype: int64"
      ]
     },
     "execution_count": 40,
     "metadata": {},
     "output_type": "execute_result"
    }
   ],
   "source": [
    "df['Reviews']"
   ]
  },
  {
   "cell_type": "markdown",
   "metadata": {
    "id": "2my5dKCbdo-r"
   },
   "source": [
    "---\n",
    "6. Encode ***df['Category']***"
   ]
  },
  {
   "cell_type": "code",
   "execution_count": 41,
   "metadata": {
    "colab": {
     "base_uri": "https://localhost:8080/"
    },
    "id": "gEZ8lATMTY56",
    "outputId": "ce193177-3501-4676-d36a-8e7cb9ba2447"
   },
   "outputs": [
    {
     "data": {
      "text/plain": [
       "0         0\n",
       "1         0\n",
       "2         0\n",
       "4         0\n",
       "5         0\n",
       "         ..\n",
       "10833     3\n",
       "10834    11\n",
       "10836    11\n",
       "10837    11\n",
       "10839     3\n",
       "Name: Category, Length: 7726, dtype: int32"
      ]
     },
     "execution_count": 41,
     "metadata": {},
     "output_type": "execute_result"
    }
   ],
   "source": [
    "from sklearn.preprocessing import LabelEncoder\n",
    "label_encoder = LabelEncoder().fit(df['Category'])\n",
    "df['Category'] = label_encoder.transform(df['Category'])\n",
    "df['Category']"
   ]
  },
  {
   "cell_type": "code",
   "execution_count": 42,
   "metadata": {
    "colab": {
     "base_uri": "https://localhost:8080/"
    },
    "id": "AzpuyfG1SffQ",
    "outputId": "5c9aa8ff-937b-4a0a-ea90-a8b33aeddbbc"
   },
   "outputs": [
    {
     "name": "stdout",
     "output_type": "stream",
     "text": [
      "<class 'pandas.core.frame.DataFrame'>\n",
      "Int64Index: 7726 entries, 0 to 10839\n",
      "Data columns (total 11 columns):\n",
      " #   Column           Non-Null Count  Dtype  \n",
      "---  ------           --------------  -----  \n",
      " 0   App              7726 non-null   object \n",
      " 1   Category         7726 non-null   int32  \n",
      " 2   Rating           7726 non-null   float64\n",
      " 3   Reviews          7726 non-null   int64  \n",
      " 4   Installs         7726 non-null   int64  \n",
      " 5   Type             7726 non-null   int64  \n",
      " 6   Price            7726 non-null   float64\n",
      " 7   Content Rating   7726 non-null   int32  \n",
      " 8   Last Updated     7726 non-null   int64  \n",
      " 9   Current Ver      7726 non-null   float64\n",
      " 10  Review_labeling  7726 non-null   int64  \n",
      "dtypes: float64(3), int32(2), int64(5), object(1)\n",
      "memory usage: 664.0+ KB\n"
     ]
    }
   ],
   "source": [
    "#After Encoding\n",
    "df.info()"
   ]
  },
  {
   "cell_type": "markdown",
   "metadata": {
    "id": "NiJ_jFg0g-HV"
   },
   "source": [
    "\n",
    "\n",
    "---\n",
    "\n",
    "\n",
    "\n",
    "---\n",
    "\n"
   ]
  },
  {
   "cell_type": "markdown",
   "metadata": {
    "id": "xArjDxwIVDFv"
   },
   "source": [
    "# **Scaling**\n",
    "Scaling for numeric data (Review, Install, Price, Rating)\n",
    "\n",
    "Using **Standard Scaler**\n",
    "\n",
    "*   Standard Scaler: much affected by outlier\n",
    " *   But, We had dropped outlier and original data has less outlier\n"
   ]
  },
  {
   "cell_type": "code",
   "execution_count": 43,
   "metadata": {
    "id": "5Lpmz5yfo1Ga"
   },
   "outputs": [],
   "source": [
    "from sklearn.preprocessing import StandardScaler"
   ]
  },
  {
   "cell_type": "code",
   "execution_count": 44,
   "metadata": {
    "id": "pHnqW19pr3uU"
   },
   "outputs": [],
   "source": [
    "to_scale = df[['Reviews', 'Installs', 'Price', 'Rating', 'Current Ver']]"
   ]
  },
  {
   "cell_type": "code",
   "execution_count": 45,
   "metadata": {
    "id": "hyPsxKjwrbmy"
   },
   "outputs": [],
   "source": [
    "scaler = StandardScaler()\n",
    "scaler.fit(to_scale) # need numeric\n",
    "df[['Reviews', 'Installs', 'Price', 'Rating', 'Current Ver']] = scaler.transform(to_scale)"
   ]
  },
  {
   "cell_type": "code",
   "execution_count": 46,
   "metadata": {
    "colab": {
     "base_uri": "https://localhost:8080/",
     "height": 373
    },
    "id": "qpU9H_n2shKY",
    "outputId": "a4909cf2-d271-4261-ba32-8e97c50e0630"
   },
   "outputs": [
    {
     "data": {
      "image/png": "[encoded data removed]",
      "text/plain": [
       "<Figure size 864x576 with 5 Axes>"
      ]
     },
     "metadata": {},
     "output_type": "display_data"
    }
   ],
   "source": [
    "sns.set(rc={'figure.figsize':(12,8)})\n",
    "fig, ax = plt.subplots(1, 5)\n",
    "\n",
    "sns.kdeplot(df.Rating, color=\"Red\", shade=True, ax=ax[0])\n",
    "ax[0].set_xlim(-2,2)\n",
    "ax[0].set_xlabel(\"Rating\")\n",
    "ax[0].set_ylabel(\"Frequency\")\n",
    "ax[0].set_title('Rating')\n",
    "\n",
    "sns.kdeplot(df.Reviews, color=\"Orange\", shade=True, ax=ax[1])\n",
    "ax[1].set_xlim(-1,1)\n",
    "ax[1].set_xlabel(\"Reviews\")\n",
    "ax[1].set_ylabel(\"Frequency\")\n",
    "ax[1].set_title('Reviews')\n",
    "\n",
    "sns.kdeplot(df.Installs, color=\"Yellow\", shade=True, ax=ax[2])\n",
    "ax[2].set_xlim(-1,1)\n",
    "ax[2].set_xlabel(\"Installs\")\n",
    "ax[2].set_ylabel(\"Frequency\")\n",
    "ax[2].set_title('Installs')\n",
    "\n",
    "sns.kdeplot(df.Price, color=\"Green\", shade=True, ax=ax[3])\n",
    "ax[3].set_xlim(-1,1)\n",
    "ax[3].set_xlabel(\"Price\")\n",
    "ax[3].set_ylabel(\"Frequency\")\n",
    "ax[3].set_title('Price')\n",
    "\n",
    "sns.kdeplot(df['Current Ver'], color=\"Blue\", shade=True, ax=ax[4])\n",
    "ax[4].set_xlim(-1,1)\n",
    "ax[4].set_xlabel(\"Ver\")\n",
    "ax[4].set_ylabel(\"Frequency\")\n",
    "ax[4].set_title('Current Ver')\n",
    "\n",
    "plt.tight_layout()"
   ]
  },
  {
   "cell_type": "markdown",
   "metadata": {
    "id": "tXDkoF747J1D"
   },
   "source": [
    "# Feature Selection\n",
    "Many models, especially those based on regression slopes and intercepts, will estimate parameters for every term in the model. \n",
    "Because of this, the presence of non-informative variables can add uncertainty to the predictions and reduce the overall effectiveness of the model.\n",
    "\n",
    "Calculating the importance of characteristics using other models Use other models such as random forests to calculate the importance of characteristics, and the final classification may use other models.\n",
    "\n",
    ":  **outcome**"
   ]
  },
  {
   "cell_type": "code",
   "execution_count": 47,
   "metadata": {},
   "outputs": [
    {
     "name": "stdout",
     "output_type": "stream",
     "text": [
      "[9.38339438e-02 1.20968559e-01 5.54567167e-01 1.27364074e-02\n",
      " 2.79180972e-03 2.00276088e-02 1.95037372e-01 3.71331883e-05]\n"
     ]
    },
    {
     "data": {
      "image/png": "[encoded data removed]",
      "text/plain": [
       "<Figure size 864x576 with 1 Axes>"
      ]
     },
     "metadata": {},
     "output_type": "display_data"
    }
   ],
   "source": [
    "from sklearn.feature_selection import SelectFromModel\n",
    "from sklearn.ensemble import ExtraTreesClassifier\n",
    "import matplotlib.pyplot as plt\n",
    "\n",
    "X= df.drop(columns=['Review_labeling','App', 'Reviews'])\n",
    "y=df['Review_labeling']\n",
    "model =ExtraTreesClassifier()\n",
    "model.fit(X,y)\n",
    "print(model.feature_importances_) #use buit-in class features-importances of tree-based classifiers\n",
    "\n",
    "#plot graph of feature importances for better visualization\n",
    "\n",
    "feat_importances= pd.Series(model.feature_importances_, index= X.columns)\n",
    "feat_importances.nlargest(8).plot(kind='barh')\n",
    "plt.show()"
   ]
  },
  {
   "cell_type": "code",
   "execution_count": 48,
   "metadata": {
    "colab": {
     "base_uri": "https://localhost:8080/",
     "height": 508
    },
    "id": "Wb49gnZG7JN6",
    "outputId": "6a077c1a-2d68-4f86-ecb3-8a7477f36732"
   },
   "outputs": [
    {
     "data": {
      "image/png": "[encoded data removed]",
      "text/plain": [
       "<Figure size 504x504 with 2 Axes>"
      ]
     },
     "metadata": {},
     "output_type": "display_data"
    }
   ],
   "source": [
    "#Correaltion matirx\n",
    "cor_df = df.drop(['Type'], axis=1)\n",
    "corrmat = cor_df.corr() #corr() computes pairwise correlations of features in a Data Frame\n",
    "plt.figure(figsize=(7,7))\n",
    "\n",
    "#plot the heat map\n",
    "g=sns.heatmap(corrmat,annot=True, cmap=\"RdYlGn\")"
   ]
  },
  {
   "cell_type": "code",
   "execution_count": 49,
   "metadata": {},
   "outputs": [
    {
     "data": {
      "text/html": [
       "<div>\n",
       "<style scoped>\n",
       "    .dataframe tbody tr th:only-of-type {\n",
       "        vertical-align: middle;\n",
       "    }\n",
       "\n",
       "    .dataframe tbody tr th {\n",
       "        vertical-align: top;\n",
       "    }\n",
       "\n",
       "    .dataframe thead th {\n",
       "        text-align: right;\n",
       "    }\n",
       "</style>\n",
       "<table border=\"1\" class=\"dataframe\">\n",
       "  <thead>\n",
       "    <tr style=\"text-align: right;\">\n",
       "      <th></th>\n",
       "      <th>Reviews</th>\n",
       "    </tr>\n",
       "  </thead>\n",
       "  <tbody>\n",
       "    <tr>\n",
       "      <th>Reviews</th>\n",
       "      <td>1.000000</td>\n",
       "    </tr>\n",
       "    <tr>\n",
       "      <th>Review_labeling</th>\n",
       "      <td>0.793199</td>\n",
       "    </tr>\n",
       "    <tr>\n",
       "      <th>Last Updated</th>\n",
       "      <td>0.191664</td>\n",
       "    </tr>\n",
       "    <tr>\n",
       "      <th>Rating</th>\n",
       "      <td>0.132734</td>\n",
       "    </tr>\n",
       "    <tr>\n",
       "      <th>Installs</th>\n",
       "      <td>0.084522</td>\n",
       "    </tr>\n",
       "    <tr>\n",
       "      <th>Content Rating</th>\n",
       "      <td>0.079895</td>\n",
       "    </tr>\n",
       "    <tr>\n",
       "      <th>Category</th>\n",
       "      <td>0.036012</td>\n",
       "    </tr>\n",
       "    <tr>\n",
       "      <th>Current Ver</th>\n",
       "      <td>-0.006109</td>\n",
       "    </tr>\n",
       "    <tr>\n",
       "      <th>Price</th>\n",
       "      <td>-0.032667</td>\n",
       "    </tr>\n",
       "    <tr>\n",
       "      <th>Type</th>\n",
       "      <td>-0.116965</td>\n",
       "    </tr>\n",
       "  </tbody>\n",
       "</table>\n",
       "</div>"
      ],
      "text/plain": [
       "                  Reviews\n",
       "Reviews          1.000000\n",
       "Review_labeling  0.793199\n",
       "Last Updated     0.191664\n",
       "Rating           0.132734\n",
       "Installs         0.084522\n",
       "Content Rating   0.079895\n",
       "Category         0.036012\n",
       "Current Ver     -0.006109\n",
       "Price           -0.032667\n",
       "Type            -0.116965"
      ]
     },
     "execution_count": 49,
     "metadata": {},
     "output_type": "execute_result"
    }
   ],
   "source": [
    "df_corr_rating = df.corr()[[\"Reviews\"]].sort_values(by='Reviews',ascending=False)\n",
    "df_corr_rating"
   ]
  },
  {
   "cell_type": "code",
   "execution_count": 50,
   "metadata": {},
   "outputs": [
    {
     "data": {
      "image/png": "[encoded data removed]",
      "text/plain": [
       "<Figure size 864x576 with 2 Axes>"
      ]
     },
     "metadata": {},
     "output_type": "display_data"
    }
   ],
   "source": [
    "sns.heatmap(df_corr_rating, annot=True, cmap=\"BrBG\", vmin=-1, vmax=1);"
   ]
  },
  {
   "cell_type": "markdown",
   "metadata": {
    "id": "uozPPPPg9G2l"
   },
   "source": [
    "Two columns most relevant to the review\n",
    ": **Installs**, **Rating** , **Last Updated**"
   ]
  },
  {
   "cell_type": "markdown",
   "metadata": {
    "id": "qo64N2HfCXU6"
   },
   "source": [
    "# Anlaysis Algorithms & Evaluation"
   ]
  },
  {
   "cell_type": "markdown",
   "metadata": {
    "id": "tTdVRUvSmbG_"
   },
   "source": [
    "## Logistic regression & KFold methods.\n",
    "\n",
    "-> Using Logistic regression model for 'Review_labeling' and evaluate performance.\n",
    "\n",
    "-> We determine how well the model is predicting based on the presence or absence of the previously predicted 'high-interest app'"
   ]
  },
  {
   "cell_type": "code",
   "execution_count": 51,
   "metadata": {},
   "outputs": [],
   "source": [
    "from sklearn.linear_model import LogisticRegression\n",
    "from sklearn.model_selection import train_test_split"
   ]
  },
  {
   "cell_type": "code",
   "execution_count": 52,
   "metadata": {
    "scrolled": true
   },
   "outputs": [
    {
     "data": {
      "text/html": [
       "<div>\n",
       "<style scoped>\n",
       "    .dataframe tbody tr th:only-of-type {\n",
       "        vertical-align: middle;\n",
       "    }\n",
       "\n",
       "    .dataframe tbody tr th {\n",
       "        vertical-align: top;\n",
       "    }\n",
       "\n",
       "    .dataframe thead th {\n",
       "        text-align: right;\n",
       "    }\n",
       "</style>\n",
       "<table border=\"1\" class=\"dataframe\">\n",
       "  <thead>\n",
       "    <tr style=\"text-align: right;\">\n",
       "      <th></th>\n",
       "      <th>App</th>\n",
       "      <th>Category</th>\n",
       "      <th>Rating</th>\n",
       "      <th>Reviews</th>\n",
       "      <th>Installs</th>\n",
       "      <th>Type</th>\n",
       "      <th>Price</th>\n",
       "      <th>Content Rating</th>\n",
       "      <th>Last Updated</th>\n",
       "      <th>Current Ver</th>\n",
       "      <th>Review_labeling</th>\n",
       "    </tr>\n",
       "  </thead>\n",
       "  <tbody>\n",
       "    <tr>\n",
       "      <th>0</th>\n",
       "      <td>Photo Editor &amp; Candy Camera &amp; Grid &amp; ScrapBook</td>\n",
       "      <td>0</td>\n",
       "      <td>-0.088478</td>\n",
       "      <td>-0.533258</td>\n",
       "      <td>-0.060054</td>\n",
       "      <td>0</td>\n",
       "      <td>-0.066742</td>\n",
       "      <td>0</td>\n",
       "      <td>1072</td>\n",
       "      <td>-0.011378</td>\n",
       "      <td>0</td>\n",
       "    </tr>\n",
       "    <tr>\n",
       "      <th>1</th>\n",
       "      <td>Coloring book moana</td>\n",
       "      <td>0</td>\n",
       "      <td>-0.452183</td>\n",
       "      <td>-0.513190</td>\n",
       "      <td>-0.059922</td>\n",
       "      <td>0</td>\n",
       "      <td>-0.066742</td>\n",
       "      <td>0</td>\n",
       "      <td>1080</td>\n",
       "      <td>-0.011378</td>\n",
       "      <td>0</td>\n",
       "    </tr>\n",
       "    <tr>\n",
       "      <th>2</th>\n",
       "      <td>U Launcher Lite – FREE Live Cool Themes, Hide ...</td>\n",
       "      <td>0</td>\n",
       "      <td>1.002635</td>\n",
       "      <td>1.636305</td>\n",
       "      <td>-0.046836</td>\n",
       "      <td>0</td>\n",
       "      <td>-0.066742</td>\n",
       "      <td>0</td>\n",
       "      <td>1277</td>\n",
       "      <td>-0.011378</td>\n",
       "      <td>1</td>\n",
       "    </tr>\n",
       "    <tr>\n",
       "      <th>4</th>\n",
       "      <td>Pixel Draw - Number Art Coloring Book</td>\n",
       "      <td>0</td>\n",
       "      <td>0.275226</td>\n",
       "      <td>-0.513190</td>\n",
       "      <td>-0.060027</td>\n",
       "      <td>0</td>\n",
       "      <td>-0.066742</td>\n",
       "      <td>0</td>\n",
       "      <td>1235</td>\n",
       "      <td>-0.011378</td>\n",
       "      <td>0</td>\n",
       "    </tr>\n",
       "    <tr>\n",
       "      <th>5</th>\n",
       "      <td>Paper flowers instructions</td>\n",
       "      <td>0</td>\n",
       "      <td>0.457078</td>\n",
       "      <td>-0.533060</td>\n",
       "      <td>-0.060053</td>\n",
       "      <td>0</td>\n",
       "      <td>-0.066742</td>\n",
       "      <td>0</td>\n",
       "      <td>801</td>\n",
       "      <td>-0.011378</td>\n",
       "      <td>0</td>\n",
       "    </tr>\n",
       "    <tr>\n",
       "      <th>...</th>\n",
       "      <td>...</td>\n",
       "      <td>...</td>\n",
       "      <td>...</td>\n",
       "      <td>...</td>\n",
       "      <td>...</td>\n",
       "      <td>...</td>\n",
       "      <td>...</td>\n",
       "      <td>...</td>\n",
       "      <td>...</td>\n",
       "      <td>...</td>\n",
       "      <td>...</td>\n",
       "    </tr>\n",
       "    <tr>\n",
       "      <th>10833</th>\n",
       "      <td>Chemin (fr)</td>\n",
       "      <td>3</td>\n",
       "      <td>1.184487</td>\n",
       "      <td>-0.536115</td>\n",
       "      <td>-0.060054</td>\n",
       "      <td>0</td>\n",
       "      <td>-0.066742</td>\n",
       "      <td>0</td>\n",
       "      <td>133</td>\n",
       "      <td>-0.011378</td>\n",
       "      <td>0</td>\n",
       "    </tr>\n",
       "    <tr>\n",
       "      <th>10834</th>\n",
       "      <td>FR Calculator</td>\n",
       "      <td>11</td>\n",
       "      <td>-0.270330</td>\n",
       "      <td>-0.537034</td>\n",
       "      <td>-0.060054</td>\n",
       "      <td>0</td>\n",
       "      <td>-0.066742</td>\n",
       "      <td>0</td>\n",
       "      <td>875</td>\n",
       "      <td>-0.011378</td>\n",
       "      <td>0</td>\n",
       "    </tr>\n",
       "    <tr>\n",
       "      <th>10836</th>\n",
       "      <td>Sya9a Maroc - FR</td>\n",
       "      <td>11</td>\n",
       "      <td>0.638931</td>\n",
       "      <td>-0.536264</td>\n",
       "      <td>-0.060054</td>\n",
       "      <td>0</td>\n",
       "      <td>-0.066742</td>\n",
       "      <td>0</td>\n",
       "      <td>911</td>\n",
       "      <td>-0.011378</td>\n",
       "      <td>0</td>\n",
       "    </tr>\n",
       "    <tr>\n",
       "      <th>10837</th>\n",
       "      <td>Fr. Mike Schmitz Audio Teachings</td>\n",
       "      <td>11</td>\n",
       "      <td>1.548192</td>\n",
       "      <td>-0.537108</td>\n",
       "      <td>-0.060054</td>\n",
       "      <td>0</td>\n",
       "      <td>-0.066742</td>\n",
       "      <td>0</td>\n",
       "      <td>1251</td>\n",
       "      <td>-0.011378</td>\n",
       "      <td>0</td>\n",
       "    </tr>\n",
       "    <tr>\n",
       "      <th>10839</th>\n",
       "      <td>The SCP Foundation DB fr nn5n</td>\n",
       "      <td>3</td>\n",
       "      <td>0.638931</td>\n",
       "      <td>-0.534376</td>\n",
       "      <td>-0.060054</td>\n",
       "      <td>0</td>\n",
       "      <td>-0.066742</td>\n",
       "      <td>3</td>\n",
       "      <td>242</td>\n",
       "      <td>-0.011378</td>\n",
       "      <td>0</td>\n",
       "    </tr>\n",
       "  </tbody>\n",
       "</table>\n",
       "<p>7726 rows × 11 columns</p>\n",
       "</div>"
      ],
      "text/plain": [
       "                                                     App  Category    Rating  \\\n",
       "0         Photo Editor & Candy Camera & Grid & ScrapBook         0 -0.088478   \n",
       "1                                    Coloring book moana         0 -0.452183   \n",
       "2      U Launcher Lite – FREE Live Cool Themes, Hide ...         0  1.002635   \n",
       "4                  Pixel Draw - Number Art Coloring Book         0  0.275226   \n",
       "5                             Paper flowers instructions         0  0.457078   \n",
       "...                                                  ...       ...       ...   \n",
       "10833                                        Chemin (fr)         3  1.184487   \n",
       "10834                                      FR Calculator        11 -0.270330   \n",
       "10836                                   Sya9a Maroc - FR        11  0.638931   \n",
       "10837                   Fr. Mike Schmitz Audio Teachings        11  1.548192   \n",
       "10839                      The SCP Foundation DB fr nn5n         3  0.638931   \n",
       "\n",
       "        Reviews  Installs  Type     Price  Content Rating  Last Updated  \\\n",
       "0     -0.533258 -0.060054     0 -0.066742               0          1072   \n",
       "1     -0.513190 -0.059922     0 -0.066742               0          1080   \n",
       "2      1.636305 -0.046836     0 -0.066742               0          1277   \n",
       "4     -0.513190 -0.060027     0 -0.066742               0          1235   \n",
       "5     -0.533060 -0.060053     0 -0.066742               0           801   \n",
       "...         ...       ...   ...       ...             ...           ...   \n",
       "10833 -0.536115 -0.060054     0 -0.066742               0           133   \n",
       "10834 -0.537034 -0.060054     0 -0.066742               0           875   \n",
       "10836 -0.536264 -0.060054     0 -0.066742               0           911   \n",
       "10837 -0.537108 -0.060054     0 -0.066742               0          1251   \n",
       "10839 -0.534376 -0.060054     0 -0.066742               3           242   \n",
       "\n",
       "       Current Ver  Review_labeling  \n",
       "0        -0.011378                0  \n",
       "1        -0.011378                0  \n",
       "2        -0.011378                1  \n",
       "4        -0.011378                0  \n",
       "5        -0.011378                0  \n",
       "...            ...              ...  \n",
       "10833    -0.011378                0  \n",
       "10834    -0.011378                0  \n",
       "10836    -0.011378                0  \n",
       "10837    -0.011378                0  \n",
       "10839    -0.011378                0  \n",
       "\n",
       "[7726 rows x 11 columns]"
      ]
     },
     "execution_count": 52,
     "metadata": {},
     "output_type": "execute_result"
    }
   ],
   "source": [
    "df"
   ]
  },
  {
   "cell_type": "code",
   "execution_count": 53,
   "metadata": {},
   "outputs": [],
   "source": [
    "X= df.drop(columns=['Review_labeling','App', 'Reviews'])\n",
    "y=df['Review_labeling']\n",
    "X_train,X_test,y_train,y_test=train_test_split(X,y,test_size=.2, \n",
    "                                               random_state=1, \n",
    "                                              stratify=y)"
   ]
  },
  {
   "cell_type": "code",
   "execution_count": 54,
   "metadata": {},
   "outputs": [
    {
     "data": {
      "text/plain": [
       "LogisticRegression(max_iter=1000)"
      ]
     },
     "execution_count": 54,
     "metadata": {},
     "output_type": "execute_result"
    }
   ],
   "source": [
    "model = LogisticRegression(solver='lbfgs', max_iter=1000)\n",
    "model.fit(X_train, y_train)"
   ]
  },
  {
   "cell_type": "code",
   "execution_count": 55,
   "metadata": {},
   "outputs": [
    {
     "name": "stdout",
     "output_type": "stream",
     "text": [
      "0.7716688227684346\n"
     ]
    }
   ],
   "source": [
    "print(model.score(X_test, y_test))"
   ]
  },
  {
   "cell_type": "code",
   "execution_count": 56,
   "metadata": {
    "scrolled": true
   },
   "outputs": [
    {
     "name": "stdout",
     "output_type": "stream",
     "text": [
      "cross-val-score \n",
      "[0.74838292 0.81941748 0.76634304 0.76763754 0.7579288 ]\n",
      "cv_scores mean:0.7719419569030843\n"
     ]
    }
   ],
   "source": [
    "from sklearn.model_selection import cross_val_score\n",
    "from sklearn.neighbors import KNeighborsClassifier\n",
    "\n",
    "logistic_cv = LogisticRegression(solver='lbfgs', max_iter=1000)\n",
    "\n",
    "# train model with cv of 5\n",
    "\n",
    "cv_scores = cross_val_score(logistic_cv, X, y, cv=5)\n",
    "\n",
    "print('cross-val-score \\n{}'.format(cv_scores))\n",
    "\n",
    "# print each cv score (accuracy) and average them  print(cv_scores)\n",
    "print('cv_scores mean:{}'.format(np.mean(cv_scores)))"
   ]
  },
  {
   "cell_type": "markdown",
   "metadata": {
    "id": "s0mx92PkOfO8"
   },
   "source": [
    "## RandomForest & Hyperparmeter tuning with GridSearchCV\n",
    "\n",
    "-> The predicted values from the predicted output that produced by multiple models through voting."
   ]
  },
  {
   "cell_type": "code",
   "execution_count": 57,
   "metadata": {},
   "outputs": [],
   "source": [
    "from sklearn.ensemble import RandomForestClassifier\n",
    "from sklearn.metrics import mean_absolute_error,mean_squared_error,accuracy_score,precision_score"
   ]
  },
  {
   "cell_type": "code",
   "execution_count": 58,
   "metadata": {},
   "outputs": [
    {
     "name": "stdout",
     "output_type": "stream",
     "text": [
      "depth=  2  estimators=  30 accuracy=  0.8357050452781372\n",
      "depth=  3  estimators=  30 accuracy=  0.8829236739974127\n",
      "depth=  4  estimators=  30 accuracy=  0.8861578266494179\n"
     ]
    }
   ],
   "source": [
    "for x in range(2,5):\n",
    "        forest=RandomForestClassifier(max_depth=x,n_estimators=30)\n",
    "        forest.fit(X_train,y_train)\n",
    "        y_pred=forest.predict(X_test)\n",
    "        print('depth= ',x,' estimators= ',30,'accuracy= ',accuracy_score(y_test,y_pred))"
   ]
  },
  {
   "cell_type": "code",
   "execution_count": 59,
   "metadata": {},
   "outputs": [],
   "source": [
    "forest1=RandomForestClassifier(max_depth=19)\n",
    "forest1.fit(X_train,y_train)\n",
    "y_pred=forest1.predict(X_test)\n",
    "final_df=pd.DataFrame({'Pred':y_pred,'Actual':y_test})"
   ]
  },
  {
   "cell_type": "code",
   "execution_count": 60,
   "metadata": {},
   "outputs": [
    {
     "data": {
      "text/html": [
       "<div>\n",
       "<style scoped>\n",
       "    .dataframe tbody tr th:only-of-type {\n",
       "        vertical-align: middle;\n",
       "    }\n",
       "\n",
       "    .dataframe tbody tr th {\n",
       "        vertical-align: top;\n",
       "    }\n",
       "\n",
       "    .dataframe thead th {\n",
       "        text-align: right;\n",
       "    }\n",
       "</style>\n",
       "<table border=\"1\" class=\"dataframe\">\n",
       "  <thead>\n",
       "    <tr style=\"text-align: right;\">\n",
       "      <th></th>\n",
       "      <th>Pred</th>\n",
       "      <th>Actual</th>\n",
       "    </tr>\n",
       "  </thead>\n",
       "  <tbody>\n",
       "    <tr>\n",
       "      <th>6195</th>\n",
       "      <td>1</td>\n",
       "      <td>1</td>\n",
       "    </tr>\n",
       "    <tr>\n",
       "      <th>10386</th>\n",
       "      <td>1</td>\n",
       "      <td>1</td>\n",
       "    </tr>\n",
       "    <tr>\n",
       "      <th>4597</th>\n",
       "      <td>0</td>\n",
       "      <td>0</td>\n",
       "    </tr>\n",
       "    <tr>\n",
       "      <th>2990</th>\n",
       "      <td>1</td>\n",
       "      <td>1</td>\n",
       "    </tr>\n",
       "    <tr>\n",
       "      <th>10428</th>\n",
       "      <td>0</td>\n",
       "      <td>0</td>\n",
       "    </tr>\n",
       "    <tr>\n",
       "      <th>...</th>\n",
       "      <td>...</td>\n",
       "      <td>...</td>\n",
       "    </tr>\n",
       "    <tr>\n",
       "      <th>4913</th>\n",
       "      <td>0</td>\n",
       "      <td>0</td>\n",
       "    </tr>\n",
       "    <tr>\n",
       "      <th>10802</th>\n",
       "      <td>0</td>\n",
       "      <td>0</td>\n",
       "    </tr>\n",
       "    <tr>\n",
       "      <th>7868</th>\n",
       "      <td>0</td>\n",
       "      <td>0</td>\n",
       "    </tr>\n",
       "    <tr>\n",
       "      <th>9317</th>\n",
       "      <td>0</td>\n",
       "      <td>0</td>\n",
       "    </tr>\n",
       "    <tr>\n",
       "      <th>943</th>\n",
       "      <td>1</td>\n",
       "      <td>1</td>\n",
       "    </tr>\n",
       "  </tbody>\n",
       "</table>\n",
       "<p>1546 rows × 2 columns</p>\n",
       "</div>"
      ],
      "text/plain": [
       "       Pred  Actual\n",
       "6195      1       1\n",
       "10386     1       1\n",
       "4597      0       0\n",
       "2990      1       1\n",
       "10428     0       0\n",
       "...     ...     ...\n",
       "4913      0       0\n",
       "10802     0       0\n",
       "7868      0       0\n",
       "9317      0       0\n",
       "943       1       1\n",
       "\n",
       "[1546 rows x 2 columns]"
      ]
     },
     "execution_count": 60,
     "metadata": {},
     "output_type": "execute_result"
    }
   ],
   "source": [
    "final_df"
   ]
  },
  {
   "cell_type": "code",
   "execution_count": 61,
   "metadata": {},
   "outputs": [],
   "source": [
    "from sklearn.model_selection import GridSearchCV  # define grid parameters\n",
    "grid_param = { 'n_estimators': [10, 30, 50, 80, 100],  'criterion': ['gini', 'entropy'], 'bootstrap': [True, False] }"
   ]
  },
  {
   "cell_type": "code",
   "execution_count": 62,
   "metadata": {},
   "outputs": [
    {
     "data": {
      "text/plain": [
       "GridSearchCV(cv=5,\n",
       "             estimator=RandomForestClassifier(max_depth=4, n_estimators=30),\n",
       "             n_jobs=-1,\n",
       "             param_grid={'bootstrap': [True, False],\n",
       "                         'criterion': ['gini', 'entropy'],\n",
       "                         'n_estimators': [10, 30, 50, 80, 100]},\n",
       "             scoring='accuracy')"
      ]
     },
     "execution_count": 62,
     "metadata": {},
     "output_type": "execute_result"
    }
   ],
   "source": [
    "gd_sr = GridSearchCV(estimator=forest,  param_grid=grid_param, scoring='accuracy', cv=5, n_jobs=-1)\n",
    "gd_sr"
   ]
  },
  {
   "cell_type": "code",
   "execution_count": 63,
   "metadata": {},
   "outputs": [
    {
     "name": "stdout",
     "output_type": "stream",
     "text": [
      "최적 하이퍼 파라미터:  {'bootstrap': True, 'criterion': 'gini', 'n_estimators': 100}\n",
      "최고 예측 정확도: 0.9031\n"
     ]
    }
   ],
   "source": [
    "gd_sr.fit(X_train, y_train)\n",
    "\n",
    "print('최적 하이퍼 파라미터: ', gd_sr.best_params_)\n",
    "print('최고 예측 정확도: {:.4f}'.format(gd_sr.best_score_))"
   ]
  }
 ],
 "metadata": {
  "colab": {
   "collapsed_sections": [],
   "name": "강나현_박민석_임혜균_현도연.ipynb",
   "provenance": []
  },
  "kernelspec": {
   "display_name": "Python 3 (ipykernel)",
   "language": "python",
   "name": "python3"
  },
  "language_info": {
   "codemirror_mode": {
    "name": "ipython",
    "version": 3
   },
   "file_extension": ".py",
   "mimetype": "text/x-python",
   "name": "python",
   "nbconvert_exporter": "python",
   "pygments_lexer": "ipython3",
   "version": "3.9.7"
  }
 },
 "nbformat": 4,
 "nbformat_minor": 1
}
